{
 "cells": [
  {
   "cell_type": "markdown",
   "id": "9cd88ba5",
   "metadata": {},
   "source": [
    "# Supervised Machine Learning Project\n",
    "### Predicting Online Consumer Behavior"
   ]
  },
  {
   "cell_type": "code",
   "execution_count": 1,
   "id": "4320773d",
   "metadata": {},
   "outputs": [],
   "source": [
    "import pandas as pd"
   ]
  },
  {
   "cell_type": "markdown",
   "id": "ad34e781",
   "metadata": {},
   "source": [
    "## The Dataset"
   ]
  },
  {
   "cell_type": "code",
   "execution_count": 2,
   "id": "2681b38b",
   "metadata": {},
   "outputs": [
    {
     "data": {
      "text/html": [
       "<div>\n",
       "<style scoped>\n",
       "    .dataframe tbody tr th:only-of-type {\n",
       "        vertical-align: middle;\n",
       "    }\n",
       "\n",
       "    .dataframe tbody tr th {\n",
       "        vertical-align: top;\n",
       "    }\n",
       "\n",
       "    .dataframe thead th {\n",
       "        text-align: right;\n",
       "    }\n",
       "</style>\n",
       "<table border=\"1\" class=\"dataframe\">\n",
       "  <thead>\n",
       "    <tr style=\"text-align: right;\">\n",
       "      <th></th>\n",
       "      <th>Administrative</th>\n",
       "      <th>Administrative_Duration</th>\n",
       "      <th>Informational</th>\n",
       "      <th>Informational_Duration</th>\n",
       "      <th>ProductRelated</th>\n",
       "      <th>ProductRelated_Duration</th>\n",
       "      <th>BounceRates</th>\n",
       "      <th>ExitRates</th>\n",
       "      <th>PageValues</th>\n",
       "      <th>SpecialDay</th>\n",
       "      <th>Month</th>\n",
       "      <th>OperatingSystems</th>\n",
       "      <th>Browser</th>\n",
       "      <th>Region</th>\n",
       "      <th>TrafficType</th>\n",
       "      <th>VisitorType</th>\n",
       "      <th>Weekend</th>\n",
       "      <th>Revenue</th>\n",
       "    </tr>\n",
       "  </thead>\n",
       "  <tbody>\n",
       "    <tr>\n",
       "      <th>0</th>\n",
       "      <td>0</td>\n",
       "      <td>0.0</td>\n",
       "      <td>0</td>\n",
       "      <td>0.0</td>\n",
       "      <td>1</td>\n",
       "      <td>0.000000</td>\n",
       "      <td>0.20</td>\n",
       "      <td>0.20</td>\n",
       "      <td>0.0</td>\n",
       "      <td>0.0</td>\n",
       "      <td>Feb</td>\n",
       "      <td>1</td>\n",
       "      <td>1</td>\n",
       "      <td>1</td>\n",
       "      <td>1</td>\n",
       "      <td>Returning_Visitor</td>\n",
       "      <td>False</td>\n",
       "      <td>False</td>\n",
       "    </tr>\n",
       "    <tr>\n",
       "      <th>1</th>\n",
       "      <td>0</td>\n",
       "      <td>0.0</td>\n",
       "      <td>0</td>\n",
       "      <td>0.0</td>\n",
       "      <td>2</td>\n",
       "      <td>64.000000</td>\n",
       "      <td>0.00</td>\n",
       "      <td>0.10</td>\n",
       "      <td>0.0</td>\n",
       "      <td>0.0</td>\n",
       "      <td>Feb</td>\n",
       "      <td>2</td>\n",
       "      <td>2</td>\n",
       "      <td>1</td>\n",
       "      <td>2</td>\n",
       "      <td>Returning_Visitor</td>\n",
       "      <td>False</td>\n",
       "      <td>False</td>\n",
       "    </tr>\n",
       "    <tr>\n",
       "      <th>2</th>\n",
       "      <td>0</td>\n",
       "      <td>0.0</td>\n",
       "      <td>0</td>\n",
       "      <td>0.0</td>\n",
       "      <td>1</td>\n",
       "      <td>0.000000</td>\n",
       "      <td>0.20</td>\n",
       "      <td>0.20</td>\n",
       "      <td>0.0</td>\n",
       "      <td>0.0</td>\n",
       "      <td>Feb</td>\n",
       "      <td>4</td>\n",
       "      <td>1</td>\n",
       "      <td>9</td>\n",
       "      <td>3</td>\n",
       "      <td>Returning_Visitor</td>\n",
       "      <td>False</td>\n",
       "      <td>False</td>\n",
       "    </tr>\n",
       "    <tr>\n",
       "      <th>3</th>\n",
       "      <td>0</td>\n",
       "      <td>0.0</td>\n",
       "      <td>0</td>\n",
       "      <td>0.0</td>\n",
       "      <td>2</td>\n",
       "      <td>2.666667</td>\n",
       "      <td>0.05</td>\n",
       "      <td>0.14</td>\n",
       "      <td>0.0</td>\n",
       "      <td>0.0</td>\n",
       "      <td>Feb</td>\n",
       "      <td>3</td>\n",
       "      <td>2</td>\n",
       "      <td>2</td>\n",
       "      <td>4</td>\n",
       "      <td>Returning_Visitor</td>\n",
       "      <td>False</td>\n",
       "      <td>False</td>\n",
       "    </tr>\n",
       "    <tr>\n",
       "      <th>4</th>\n",
       "      <td>0</td>\n",
       "      <td>0.0</td>\n",
       "      <td>0</td>\n",
       "      <td>0.0</td>\n",
       "      <td>10</td>\n",
       "      <td>627.500000</td>\n",
       "      <td>0.02</td>\n",
       "      <td>0.05</td>\n",
       "      <td>0.0</td>\n",
       "      <td>0.0</td>\n",
       "      <td>Feb</td>\n",
       "      <td>3</td>\n",
       "      <td>3</td>\n",
       "      <td>1</td>\n",
       "      <td>4</td>\n",
       "      <td>Returning_Visitor</td>\n",
       "      <td>True</td>\n",
       "      <td>False</td>\n",
       "    </tr>\n",
       "  </tbody>\n",
       "</table>\n",
       "</div>"
      ],
      "text/plain": [
       "   Administrative  Administrative_Duration  Informational  \\\n",
       "0               0                      0.0              0   \n",
       "1               0                      0.0              0   \n",
       "2               0                      0.0              0   \n",
       "3               0                      0.0              0   \n",
       "4               0                      0.0              0   \n",
       "\n",
       "   Informational_Duration  ProductRelated  ProductRelated_Duration  \\\n",
       "0                     0.0               1                 0.000000   \n",
       "1                     0.0               2                64.000000   \n",
       "2                     0.0               1                 0.000000   \n",
       "3                     0.0               2                 2.666667   \n",
       "4                     0.0              10               627.500000   \n",
       "\n",
       "   BounceRates  ExitRates  PageValues  SpecialDay Month  OperatingSystems  \\\n",
       "0         0.20       0.20         0.0         0.0   Feb                 1   \n",
       "1         0.00       0.10         0.0         0.0   Feb                 2   \n",
       "2         0.20       0.20         0.0         0.0   Feb                 4   \n",
       "3         0.05       0.14         0.0         0.0   Feb                 3   \n",
       "4         0.02       0.05         0.0         0.0   Feb                 3   \n",
       "\n",
       "   Browser  Region  TrafficType        VisitorType  Weekend  Revenue  \n",
       "0        1       1            1  Returning_Visitor    False    False  \n",
       "1        2       1            2  Returning_Visitor    False    False  \n",
       "2        1       9            3  Returning_Visitor    False    False  \n",
       "3        2       2            4  Returning_Visitor    False    False  \n",
       "4        3       1            4  Returning_Visitor     True    False  "
      ]
     },
     "execution_count": 2,
     "metadata": {},
     "output_type": "execute_result"
    }
   ],
   "source": [
    "df = pd.read_csv(\"online_shoppers_intention.csv\")\n",
    "df.head()"
   ]
  },
  {
   "cell_type": "markdown",
   "id": "f3f95b89",
   "metadata": {},
   "source": [
    "#### Column Descriptions:\n",
    "- Administrative: This is the number of pages of this type (administrative) that the user visited.\n",
    "\n",
    "- Administrative_Duration: This is the amount of time spent in this category of pages.\n",
    "\n",
    "- Informational: This is the number of pages of this type (informational) that the user visited.\n",
    "\n",
    "- Informational_Duration: This is the amount of time spent in this category of pages.\n",
    "\n",
    "- ProductRelated: This is the number of pages of this type (product related) that the user visited.\n",
    "\n",
    "- ProductRelated_Duration: This is the amount of time spent in this category of pages.\n",
    "\n",
    "- BounceRates: The percentage of visitors who enter the website through that page and exit without triggering any additional tasks.\n",
    "\n",
    "- ExitRates: The percentage of pageviews on the website that end at that specific page.\n",
    "\n",
    "- PageValues: The average value of the page averaged over the value of the target page and/or the completion of an eCommerce transaction.\n",
    "[More information about calculation](https://support.google.com/analytics/answer/2695658?hl=en)\n",
    "\n",
    "- SpecialDay: This value represents the closeness of the browsing date to special days or holidays (eg Mother's Day or Valentine's day) in which the transaction is more likely to be finalized.\n",
    "\n",
    "- Month: Contains the month the pageview occurred, in string form.\n",
    "\n",
    "- OperatingSystems: An integer value representing the operating system that the user was on when viewing the page.\n",
    "\n",
    "- Browser: An integer value representing the browser that the user was using to view the page.\n",
    "\n",
    "- Region: An integer value representing which region the user is located in.\n",
    "\n",
    "- TrafficType: An integer value representing what type of traffic the user is categorized into. [Read more about traffic types](https://www.practicalecommerce.com/Understanding-Traffic-Sources-in-Google-Analytics)\n",
    "\n",
    "- VisitorType: A string representing whether a visitor is New Visitor, Returning Visitor, or Other.\n",
    "\n",
    "- Weekend: A boolean representing whether the session is on a weekend.\n",
    "\n",
    "- Revenue: A boolean representing whether or not the user completed the purchase. The target variable!"
   ]
  },
  {
   "cell_type": "markdown",
   "id": "8743615b",
   "metadata": {},
   "source": [
    "## Inspect Data"
   ]
  },
  {
   "cell_type": "code",
   "execution_count": 3,
   "id": "48955b7c",
   "metadata": {},
   "outputs": [
    {
     "name": "stdout",
     "output_type": "stream",
     "text": [
      "<class 'pandas.core.frame.DataFrame'>\n",
      "RangeIndex: 12330 entries, 0 to 12329\n",
      "Data columns (total 18 columns):\n",
      " #   Column                   Non-Null Count  Dtype  \n",
      "---  ------                   --------------  -----  \n",
      " 0   Administrative           12330 non-null  int64  \n",
      " 1   Administrative_Duration  12330 non-null  float64\n",
      " 2   Informational            12330 non-null  int64  \n",
      " 3   Informational_Duration   12330 non-null  float64\n",
      " 4   ProductRelated           12330 non-null  int64  \n",
      " 5   ProductRelated_Duration  12330 non-null  float64\n",
      " 6   BounceRates              12330 non-null  float64\n",
      " 7   ExitRates                12330 non-null  float64\n",
      " 8   PageValues               12330 non-null  float64\n",
      " 9   SpecialDay               12330 non-null  float64\n",
      " 10  Month                    12330 non-null  object \n",
      " 11  OperatingSystems         12330 non-null  int64  \n",
      " 12  Browser                  12330 non-null  int64  \n",
      " 13  Region                   12330 non-null  int64  \n",
      " 14  TrafficType              12330 non-null  int64  \n",
      " 15  VisitorType              12330 non-null  object \n",
      " 16  Weekend                  12330 non-null  bool   \n",
      " 17  Revenue                  12330 non-null  bool   \n",
      "dtypes: bool(2), float64(7), int64(7), object(2)\n",
      "memory usage: 1.5+ MB\n"
     ]
    }
   ],
   "source": [
    "df.info()"
   ]
  },
  {
   "cell_type": "code",
   "execution_count": 4,
   "id": "f37a4c57",
   "metadata": {},
   "outputs": [
    {
     "name": "stdout",
     "output_type": "stream",
     "text": [
      "Missing Values:\n",
      "Administrative             0\n",
      "Administrative_Duration    0\n",
      "Informational              0\n",
      "Informational_Duration     0\n",
      "ProductRelated             0\n",
      "ProductRelated_Duration    0\n",
      "BounceRates                0\n",
      "ExitRates                  0\n",
      "PageValues                 0\n",
      "SpecialDay                 0\n",
      "Month                      0\n",
      "OperatingSystems           0\n",
      "Browser                    0\n",
      "Region                     0\n",
      "TrafficType                0\n",
      "VisitorType                0\n",
      "Weekend                    0\n",
      "Revenue                    0\n",
      "dtype: int64\n",
      "\n",
      "Target Balance:\n",
      "False    0.845255\n",
      "True     0.154745\n",
      "Name: Revenue, dtype: float64\n",
      "\n",
      "Numerical Summary:\n",
      "       Administrative  Administrative_Duration  Informational  \\\n",
      "count    12330.000000             12330.000000   12330.000000   \n",
      "mean         2.315166                80.818611       0.503569   \n",
      "std          3.321784               176.779107       1.270156   \n",
      "min          0.000000                 0.000000       0.000000   \n",
      "25%          0.000000                 0.000000       0.000000   \n",
      "50%          1.000000                 7.500000       0.000000   \n",
      "75%          4.000000                93.256250       0.000000   \n",
      "max         27.000000              3398.750000      24.000000   \n",
      "\n",
      "       Informational_Duration  ProductRelated  ProductRelated_Duration  \\\n",
      "count            12330.000000    12330.000000             12330.000000   \n",
      "mean                34.472398       31.731468              1194.746220   \n",
      "std                140.749294       44.475503              1913.669288   \n",
      "min                  0.000000        0.000000                 0.000000   \n",
      "25%                  0.000000        7.000000               184.137500   \n",
      "50%                  0.000000       18.000000               598.936905   \n",
      "75%                  0.000000       38.000000              1464.157214   \n",
      "max               2549.375000      705.000000             63973.522230   \n",
      "\n",
      "        BounceRates     ExitRates    PageValues    SpecialDay  \\\n",
      "count  12330.000000  12330.000000  12330.000000  12330.000000   \n",
      "mean       0.022191      0.043073      5.889258      0.061427   \n",
      "std        0.048488      0.048597     18.568437      0.198917   \n",
      "min        0.000000      0.000000      0.000000      0.000000   \n",
      "25%        0.000000      0.014286      0.000000      0.000000   \n",
      "50%        0.003112      0.025156      0.000000      0.000000   \n",
      "75%        0.016813      0.050000      0.000000      0.000000   \n",
      "max        0.200000      0.200000    361.763742      1.000000   \n",
      "\n",
      "       OperatingSystems       Browser        Region   TrafficType  \n",
      "count      12330.000000  12330.000000  12330.000000  12330.000000  \n",
      "mean           2.124006      2.357097      3.147364      4.069586  \n",
      "std            0.911325      1.717277      2.401591      4.025169  \n",
      "min            1.000000      1.000000      1.000000      1.000000  \n",
      "25%            2.000000      2.000000      1.000000      2.000000  \n",
      "50%            2.000000      2.000000      3.000000      2.000000  \n",
      "75%            3.000000      2.000000      4.000000      4.000000  \n",
      "max            8.000000     13.000000      9.000000     20.000000  \n"
     ]
    }
   ],
   "source": [
    "# Checking for missing values in the dataset\n",
    "missing_values = df.isnull().sum()\n",
    "\n",
    "# Checking the balance of the target variable 'Revenue'\n",
    "target_balance = df['Revenue'].value_counts(normalize=True)\n",
    "\n",
    "# Summary statistics of numerical features\n",
    "numerical_summary = df.describe()\n",
    "\n",
    "print(f\"Missing Values:\\n{missing_values}\\n\\nTarget Balance:\\n{target_balance}\\n\\nNumerical Summary:\\n{numerical_summary}\")"
   ]
  },
  {
   "cell_type": "markdown",
   "id": "52196c81",
   "metadata": {},
   "source": [
    "#### Notes:\n",
    "- The dataset is imbalanced with about 84.5% of instances belonging to the False class and 15.5% belonging to the True class. This imbalance will need to be addressed during model training, either by resampling the dataset or by using appropriate evaluation metrics.\n",
    "- Features like Administrative, Informational, and ProductRelated have a wide range of values, indicating varying user behavior in terms of the number of pages visited.\n",
    "- BounceRates and ExitRates are mostly low, suggesting that users generally visit multiple pages on the website.\n",
    "- PageValues have a high maximum value compared to other features, which might indicate outliers or high variability in this feature."
   ]
  },
  {
   "cell_type": "markdown",
   "id": "d890af48",
   "metadata": {},
   "source": [
    "## Data Preprocessing"
   ]
  },
  {
   "cell_type": "markdown",
   "id": "47fbfbe4",
   "metadata": {},
   "source": [
    "#### Preprocessor pipeline\n",
    "- Encoding\n",
    "- Scaling"
   ]
  },
  {
   "cell_type": "code",
   "execution_count": 5,
   "id": "ad928478",
   "metadata": {},
   "outputs": [],
   "source": [
    "from sklearn.preprocessing import OneHotEncoder, StandardScaler\n",
    "from sklearn.compose import make_column_transformer\n",
    "from sklearn.pipeline import make_pipeline\n",
    "\n",
    "# Encoding Categorical Features\n",
    "categorical_features = ['Month', 'VisitorType', 'Weekend']\n",
    "\n",
    "\n",
    "# Encoding Numerical Features\n",
    "numerical_features = ['Administrative', 'Administrative_Duration', 'Informational', 'Informational_Duration', \n",
    "                      'ProductRelated', 'ProductRelated_Duration', 'BounceRates', 'ExitRates', 'PageValues', \n",
    "                      'SpecialDay', 'OperatingSystems', 'Browser', 'Region', 'TrafficType']\n",
    "\n",
    "\n",
    "# Constructing the column transformer that will allow us to preprocess the dataframe\n",
    "categorical_transformer = make_pipeline(OneHotEncoder(handle_unknown='ignore', drop=\"if_binary\"))\n",
    "numerical_transformer = make_pipeline(StandardScaler())\n",
    "\n",
    "preprocessor = make_column_transformer((numerical_transformer, numerical_features), \n",
    "                                       (categorical_transformer, categorical_features)) "
   ]
  },
  {
   "cell_type": "markdown",
   "id": "5e196f79",
   "metadata": {},
   "source": [
    "#### X & y, Train/Test Split"
   ]
  },
  {
   "cell_type": "code",
   "execution_count": 6,
   "id": "580dd4ff",
   "metadata": {},
   "outputs": [],
   "source": [
    "from sklearn.model_selection import train_test_split\n",
    "\n",
    "X = df.drop(\"Revenue\", axis=1)\n",
    "y = df[\"Revenue\"]\n",
    "\n",
    "X_train, X_test, y_train, y_test = train_test_split(X, y, test_size=0.2, random_state=0, stratify=y)"
   ]
  },
  {
   "cell_type": "markdown",
   "id": "22ddb3d6",
   "metadata": {},
   "source": [
    "#### Handling Class Imbalance"
   ]
  },
  {
   "cell_type": "code",
   "execution_count": 7,
   "id": "d313f443",
   "metadata": {},
   "outputs": [
    {
     "data": {
      "text/plain": [
       "False    0.845255\n",
       "True     0.154745\n",
       "Name: Revenue, dtype: float64"
      ]
     },
     "execution_count": 7,
     "metadata": {},
     "output_type": "execute_result"
    }
   ],
   "source": [
    "df.Revenue.value_counts(normalize=True)"
   ]
  },
  {
   "cell_type": "code",
   "execution_count": 8,
   "id": "d5a8f170",
   "metadata": {},
   "outputs": [
    {
     "data": {
      "text/plain": [
       "True     1486\n",
       "False    1486\n",
       "Name: Revenue, dtype: int64"
      ]
     },
     "execution_count": 8,
     "metadata": {},
     "output_type": "execute_result"
    }
   ],
   "source": [
    "# Downsampling the majority class in the training data\n",
    "\n",
    "# Combining X_train and y_train for downsampling\n",
    "train_data = pd.concat([X_train, y_train], axis=1)\n",
    "\n",
    "# Separating majority and minority classes\n",
    "majority = train_data[train_data.Revenue == False]\n",
    "minority = train_data[train_data.Revenue == True]\n",
    "\n",
    "# Downsampling majority class\n",
    "majority_downsampled = majority.sample(n=len(minority), random_state=0)\n",
    "\n",
    "# Combining minority class with downsampled majority class\n",
    "downsampled = pd.concat([majority_downsampled, minority])\n",
    "\n",
    "# Shuffling the data\n",
    "downsampled = downsampled.sample(frac=1, random_state=0)\n",
    "\n",
    "# Separating features and target variable from downsampled data\n",
    "X_train_downsampled = downsampled.drop(columns=['Revenue'])\n",
    "y_train_downsampled = downsampled['Revenue']\n",
    "\n",
    "# Checking the distribution of the target variable in the downsampled training data\n",
    "y_train_downsampled.value_counts()"
   ]
  },
  {
   "cell_type": "markdown",
   "id": "f84c4f19",
   "metadata": {},
   "source": [
    "## Testing Models"
   ]
  },
  {
   "cell_type": "code",
   "execution_count": 9,
   "id": "c23c8138",
   "metadata": {},
   "outputs": [],
   "source": [
    "from sklearn.linear_model import LogisticRegression\n",
    "from sklearn.tree import DecisionTreeClassifier\n",
    "from sklearn.ensemble import RandomForestClassifier\n",
    "from sklearn.svm import SVC\n",
    "from sklearn.naive_bayes import GaussianNB"
   ]
  },
  {
   "cell_type": "markdown",
   "id": "dc75e13a",
   "metadata": {},
   "source": [
    "#### Testing with class_weight='balanced'"
   ]
  },
  {
   "cell_type": "code",
   "execution_count": 10,
   "id": "26f8bce7",
   "metadata": {},
   "outputs": [],
   "source": [
    "# Make a list of different classifier models\n",
    "models = [\n",
    "    ('Logistic Regression', LogisticRegression(class_weight='balanced', random_state=0)),\n",
    "    ('Decision Tree', DecisionTreeClassifier(class_weight='balanced', random_state=0)),\n",
    "    ('Random Forest', RandomForestClassifier(class_weight='balanced', random_state=0)),\n",
    "    ('SVC', SVC(class_weight='balanced', random_state=0)),\n",
    "    ('Naive Bayes', GaussianNB())\n",
    "]"
   ]
  },
  {
   "cell_type": "code",
   "execution_count": 11,
   "id": "ebce8bea",
   "metadata": {},
   "outputs": [
    {
     "name": "stderr",
     "output_type": "stream",
     "text": [
      "C:\\Users\\kevin\\anaconda3\\lib\\site-packages\\sklearn\\linear_model\\_logistic.py:460: ConvergenceWarning: lbfgs failed to converge (status=1):\n",
      "STOP: TOTAL NO. of ITERATIONS REACHED LIMIT.\n",
      "\n",
      "Increase the number of iterations (max_iter) or scale the data as shown in:\n",
      "    https://scikit-learn.org/stable/modules/preprocessing.html\n",
      "Please also refer to the documentation for alternative solver options:\n",
      "    https://scikit-learn.org/stable/modules/linear_model.html#logistic-regression\n",
      "  n_iter_i = _check_optimize_result(\n"
     ]
    }
   ],
   "source": [
    "from sklearn.metrics import classification_report\n",
    "# Dictionary to store the classification reports for each model\n",
    "classification_reports = {}\n",
    "\n",
    "# Training the models on the original training data with class_weight='balanced'\n",
    "for model_name, model in models:\n",
    "    # Creating a pipeline with preprocessing and model\n",
    "    pipeline = make_pipeline(preprocessor, model)\n",
    "    \n",
    "    # Fitting the model\n",
    "    pipeline.fit(X_train, y_train)\n",
    "    \n",
    "    # Predicting the test data\n",
    "    y_pred = pipeline.predict(X_test)\n",
    "    \n",
    "    # Calculating the classification report\n",
    "    report = classification_report(y_test, y_pred, target_names=['No Revenue', 'Revenue'], output_dict=True)\n",
    "    classification_reports[model_name] = report"
   ]
  },
  {
   "cell_type": "markdown",
   "id": "267edd55",
   "metadata": {},
   "source": [
    "####  Displaying the classification reports for models with class_weight='balanced'"
   ]
  },
  {
   "cell_type": "code",
   "execution_count": 12,
   "id": "a64fced0",
   "metadata": {},
   "outputs": [
    {
     "data": {
      "text/plain": [
       "{'No Revenue': {'precision': 0.9425711275026344,\n",
       "  'recall': 0.8752446183953033,\n",
       "  'f1-score': 0.9076610857432776,\n",
       "  'support': 2044.0},\n",
       " 'Revenue': {'precision': 0.551056338028169,\n",
       "  'recall': 0.7417061611374408,\n",
       "  'f1-score': 0.6323232323232323,\n",
       "  'support': 422.0},\n",
       " 'accuracy': 0.8523925385239254,\n",
       " 'macro avg': {'precision': 0.7468137327654016,\n",
       "  'recall': 0.8084753897663721,\n",
       "  'f1-score': 0.769992159033255,\n",
       "  'support': 2466.0},\n",
       " 'weighted avg': {'precision': 0.8755722462543682,\n",
       "  'recall': 0.8523925385239254,\n",
       "  'f1-score': 0.8605432535683956,\n",
       "  'support': 2466.0}}"
      ]
     },
     "execution_count": 12,
     "metadata": {},
     "output_type": "execute_result"
    }
   ],
   "source": [
    "classification_reports['Logistic Regression']"
   ]
  },
  {
   "cell_type": "code",
   "execution_count": 13,
   "id": "784d3737",
   "metadata": {},
   "outputs": [
    {
     "data": {
      "text/plain": [
       "{'No Revenue': {'precision': 0.9041944709246902,\n",
       "  'recall': 0.928082191780822,\n",
       "  'f1-score': 0.9159826170931917,\n",
       "  'support': 2044.0},\n",
       " 'Revenue': {'precision': 0.6005434782608695,\n",
       "  'recall': 0.523696682464455,\n",
       "  'f1-score': 0.5594936708860759,\n",
       "  'support': 422.0},\n",
       " 'accuracy': 0.8588807785888077,\n",
       " 'macro avg': {'precision': 0.7523689745927798,\n",
       "  'recall': 0.7258894371226385,\n",
       "  'f1-score': 0.7377381439896338,\n",
       "  'support': 2466.0},\n",
       " 'weighted avg': {'precision': 0.8522314867786512,\n",
       "  'recall': 0.8588807785888077,\n",
       "  'f1-score': 0.8549776149442043,\n",
       "  'support': 2466.0}}"
      ]
     },
     "execution_count": 13,
     "metadata": {},
     "output_type": "execute_result"
    }
   ],
   "source": [
    "classification_reports['Decision Tree']"
   ]
  },
  {
   "cell_type": "code",
   "execution_count": 14,
   "id": "2d604c6a",
   "metadata": {},
   "outputs": [
    {
     "data": {
      "text/plain": [
       "{'No Revenue': {'precision': 0.9083793738489871,\n",
       "  'recall': 0.9652641878669276,\n",
       "  'f1-score': 0.9359582542694498,\n",
       "  'support': 2044.0},\n",
       " 'Revenue': {'precision': 0.7585034013605442,\n",
       "  'recall': 0.5284360189573459,\n",
       "  'f1-score': 0.6229050279329609,\n",
       "  'support': 422.0},\n",
       " 'accuracy': 0.8905109489051095,\n",
       " 'macro avg': {'precision': 0.8334413876047657,\n",
       "  'recall': 0.7468501034121368,\n",
       "  'f1-score': 0.7794316411012053,\n",
       "  'support': 2466.0},\n",
       " 'weighted avg': {'precision': 0.8827314985894077,\n",
       "  'recall': 0.8905109489051095,\n",
       "  'f1-score': 0.8823862909628811,\n",
       "  'support': 2466.0}}"
      ]
     },
     "execution_count": 14,
     "metadata": {},
     "output_type": "execute_result"
    }
   ],
   "source": [
    "classification_reports['Random Forest']"
   ]
  },
  {
   "cell_type": "code",
   "execution_count": 15,
   "id": "ab00c920",
   "metadata": {},
   "outputs": [
    {
     "data": {
      "text/plain": [
       "{'No Revenue': {'precision': 0.9403217436429684,\n",
       "  'recall': 0.8864970645792564,\n",
       "  'f1-score': 0.912616469403173,\n",
       "  'support': 2044.0},\n",
       " 'Revenue': {'precision': 0.5695732838589982,\n",
       "  'recall': 0.7274881516587678,\n",
       "  'f1-score': 0.6389177939646202,\n",
       "  'support': 422.0},\n",
       " 'accuracy': 0.8592862935928629,\n",
       " 'macro avg': {'precision': 0.7549475137509833,\n",
       "  'recall': 0.8069926081190121,\n",
       "  'f1-score': 0.7757671316838965,\n",
       "  'support': 2466.0},\n",
       " 'weighted avg': {'precision': 0.8768765489840732,\n",
       "  'recall': 0.8592862935928629,\n",
       "  'f1-score': 0.8657791453824635,\n",
       "  'support': 2466.0}}"
      ]
     },
     "execution_count": 15,
     "metadata": {},
     "output_type": "execute_result"
    }
   ],
   "source": [
    "classification_reports['SVC']"
   ]
  },
  {
   "cell_type": "code",
   "execution_count": 16,
   "id": "c1a13e81",
   "metadata": {},
   "outputs": [
    {
     "data": {
      "text/plain": [
       "{'No Revenue': {'precision': 0.9399585921325052,\n",
       "  'recall': 0.6663405088062623,\n",
       "  'f1-score': 0.7798454050959062,\n",
       "  'support': 2044.0},\n",
       " 'Revenue': {'precision': 0.32940019665683384,\n",
       "  'recall': 0.7938388625592417,\n",
       "  'f1-score': 0.4656011118832523,\n",
       "  'support': 422.0},\n",
       " 'accuracy': 0.6881589618815896,\n",
       " 'macro avg': {'precision': 0.6346793943946696,\n",
       "  'recall': 0.730089685682752,\n",
       "  'f1-score': 0.6227232584895792,\n",
       "  'support': 2466.0},\n",
       " 'weighted avg': {'precision': 0.8354753630608374,\n",
       "  'recall': 0.6881589618815896,\n",
       "  'f1-score': 0.7260696176929298,\n",
       "  'support': 2466.0}}"
      ]
     },
     "execution_count": 16,
     "metadata": {},
     "output_type": "execute_result"
    }
   ],
   "source": [
    "classification_reports['Naive Bayes']"
   ]
  },
  {
   "cell_type": "markdown",
   "id": "69cac305",
   "metadata": {},
   "source": [
    "#### Testing with downsampled training data"
   ]
  },
  {
   "cell_type": "code",
   "execution_count": 17,
   "id": "0a22e6f0",
   "metadata": {},
   "outputs": [],
   "source": [
    "# Make a list of different classifier models\n",
    "models = [\n",
    "    ('Logistic Regression', LogisticRegression(random_state=0)),\n",
    "    ('Decision Tree', DecisionTreeClassifier(random_state=0)),\n",
    "    ('Random Forest', RandomForestClassifier(random_state=0)),\n",
    "    ('SVC', SVC(random_state=0)),\n",
    "    ('Naive Bayes', GaussianNB())\n",
    "]"
   ]
  },
  {
   "cell_type": "code",
   "execution_count": 18,
   "id": "fd2a6dc4",
   "metadata": {},
   "outputs": [],
   "source": [
    "# Dictionary to store the classification reports for each model on downsampled data\n",
    "classification_reports_downsampled = {}\n",
    "\n",
    "# Training the models on the downsampled training data\n",
    "for model_name, model in models:\n",
    "    # Creating a pipeline with preprocessing and model\n",
    "    pipeline = make_pipeline(preprocessor, model)\n",
    "    \n",
    "    # Fitting the model on downsampled data\n",
    "    pipeline.fit(X_train_downsampled, y_train_downsampled)\n",
    "    \n",
    "    # Predicting the test data\n",
    "    y_pred_downsampled = pipeline.predict(X_test)\n",
    "    \n",
    "    # Calculating the classification report\n",
    "    report_downsampled = classification_report(y_test, y_pred_downsampled, target_names=['No Revenue', 'Revenue'], output_dict=True)\n",
    "    classification_reports_downsampled[model_name] = report_downsampled"
   ]
  },
  {
   "cell_type": "markdown",
   "id": "9041160a",
   "metadata": {},
   "source": [
    "#### Displaying the classification reports for models on downsampled data"
   ]
  },
  {
   "cell_type": "code",
   "execution_count": 19,
   "id": "1aacbab5",
   "metadata": {},
   "outputs": [
    {
     "data": {
      "text/plain": [
       "{'No Revenue': {'precision': 0.940625,\n",
       "  'recall': 0.8835616438356164,\n",
       "  'f1-score': 0.9112008072653884,\n",
       "  'support': 2044.0},\n",
       " 'Revenue': {'precision': 0.5641025641025641,\n",
       "  'recall': 0.7298578199052133,\n",
       "  'f1-score': 0.6363636363636364,\n",
       "  'support': 422.0},\n",
       " 'accuracy': 0.8572587185725872,\n",
       " 'macro avg': {'precision': 0.7523637820512821,\n",
       "  'recall': 0.8067097318704148,\n",
       "  'f1-score': 0.7737822218145124,\n",
       "  'support': 2466.0},\n",
       " 'weighted avg': {'precision': 0.8761917202154428,\n",
       "  'recall': 0.8572587185725872,\n",
       "  'f1-score': 0.8641686555538963,\n",
       "  'support': 2466.0}}"
      ]
     },
     "execution_count": 19,
     "metadata": {},
     "output_type": "execute_result"
    }
   ],
   "source": [
    "classification_reports_downsampled['Logistic Regression']"
   ]
  },
  {
   "cell_type": "code",
   "execution_count": 20,
   "id": "bce123f5",
   "metadata": {},
   "outputs": [
    {
     "data": {
      "text/plain": [
       "{'No Revenue': {'precision': 0.9467592592592593,\n",
       "  'recall': 0.8003913894324853,\n",
       "  'f1-score': 0.8674443266171792,\n",
       "  'support': 2044.0},\n",
       " 'Revenue': {'precision': 0.44715447154471544,\n",
       "  'recall': 0.7819905213270142,\n",
       "  'f1-score': 0.5689655172413793,\n",
       "  'support': 422.0},\n",
       " 'accuracy': 0.797242497972425,\n",
       " 'macro avg': {'precision': 0.6969568654019873,\n",
       "  'recall': 0.7911909553797498,\n",
       "  'f1-score': 0.7182049219292792,\n",
       "  'support': 2466.0},\n",
       " 'weighted avg': {'precision': 0.8612632250274922,\n",
       "  'recall': 0.797242497972425,\n",
       "  'f1-score': 0.8163664443963408,\n",
       "  'support': 2466.0}}"
      ]
     },
     "execution_count": 20,
     "metadata": {},
     "output_type": "execute_result"
    }
   ],
   "source": [
    "classification_reports_downsampled['Decision Tree']"
   ]
  },
  {
   "cell_type": "code",
   "execution_count": 21,
   "id": "3660b8c2",
   "metadata": {},
   "outputs": [
    {
     "data": {
      "text/plain": [
       "{'No Revenue': {'precision': 0.96126568466994,\n",
       "  'recall': 0.8620352250489237,\n",
       "  'f1-score': 0.9089502192416817,\n",
       "  'support': 2044.0},\n",
       " 'Revenue': {'precision': 0.5545023696682464,\n",
       "  'recall': 0.8317535545023697,\n",
       "  'f1-score': 0.6654028436018957,\n",
       "  'support': 422.0},\n",
       " 'accuracy': 0.856853203568532,\n",
       " 'macro avg': {'precision': 0.7578840271690932,\n",
       "  'recall': 0.8468943897756467,\n",
       "  'f1-score': 0.7871765314217887,\n",
       "  'support': 2466.0},\n",
       " 'weighted avg': {'precision': 0.891657363935668,\n",
       "  'recall': 0.856853203568532,\n",
       "  'f1-score': 0.867272606703162,\n",
       "  'support': 2466.0}}"
      ]
     },
     "execution_count": 21,
     "metadata": {},
     "output_type": "execute_result"
    }
   ],
   "source": [
    "classification_reports_downsampled['Random Forest']"
   ]
  },
  {
   "cell_type": "code",
   "execution_count": 22,
   "id": "05762364",
   "metadata": {},
   "outputs": [
    {
     "data": {
      "text/plain": [
       "{'No Revenue': {'precision': 0.9397781299524565,\n",
       "  'recall': 0.8703522504892368,\n",
       "  'f1-score': 0.903733807467615,\n",
       "  'support': 2044.0},\n",
       " 'Revenue': {'precision': 0.537521815008726,\n",
       "  'recall': 0.7298578199052133,\n",
       "  'f1-score': 0.6190954773869346,\n",
       "  'support': 422.0},\n",
       " 'accuracy': 0.8463098134630981,\n",
       " 'macro avg': {'precision': 0.7386499724805913,\n",
       "  'recall': 0.800105035197225,\n",
       "  'f1-score': 0.7614146424272747,\n",
       "  'support': 2466.0},\n",
       " 'weighted avg': {'precision': 0.8709410801121262,\n",
       "  'recall': 0.8463098134630981,\n",
       "  'f1-score': 0.8550244095381554,\n",
       "  'support': 2466.0}}"
      ]
     },
     "execution_count": 22,
     "metadata": {},
     "output_type": "execute_result"
    }
   ],
   "source": [
    "classification_reports_downsampled['SVC']"
   ]
  },
  {
   "cell_type": "code",
   "execution_count": 23,
   "id": "7e6fea09",
   "metadata": {},
   "outputs": [
    {
     "data": {
      "text/plain": [
       "{'No Revenue': {'precision': 0.9479813664596274,\n",
       "  'recall': 0.5973581213307241,\n",
       "  'f1-score': 0.7328931572629052,\n",
       "  'support': 2044.0},\n",
       " 'Revenue': {'precision': 0.30135823429541597,\n",
       "  'recall': 0.8412322274881516,\n",
       "  'f1-score': 0.44375000000000003,\n",
       "  'support': 422.0},\n",
       " 'accuracy': 0.6390916463909164,\n",
       " 'macro avg': {'precision': 0.6246698003775217,\n",
       "  'recall': 0.7192951744094378,\n",
       "  'f1-score': 0.5883215786314526,\n",
       "  'support': 2466.0},\n",
       " 'weighted avg': {'precision': 0.8373264752295799,\n",
       "  'recall': 0.6390916463909164,\n",
       "  'f1-score': 0.6834128602779311,\n",
       "  'support': 2466.0}}"
      ]
     },
     "execution_count": 23,
     "metadata": {},
     "output_type": "execute_result"
    }
   ],
   "source": [
    "classification_reports_downsampled['Naive Bayes']"
   ]
  },
  {
   "cell_type": "markdown",
   "id": "5f1d12d6",
   "metadata": {},
   "source": [
    "#### Grid Search Hyperparameter tuning with Cross-validation"
   ]
  },
  {
   "cell_type": "code",
   "execution_count": 24,
   "id": "96b272a3",
   "metadata": {},
   "outputs": [],
   "source": [
    "from sklearn.model_selection import GridSearchCV\n",
    "\n",
    "# Define parameter grid\n",
    "param_grid_rf = {\n",
    "    'randomforestclassifier__n_estimators': [50, 100, 150],\n",
    "    'randomforestclassifier__max_depth': [None, 10, 20],\n",
    "    'randomforestclassifier__min_samples_split': [2, 5],\n",
    "    'randomforestclassifier__min_samples_leaf': [1, 2]\n",
    "}\n",
    "\n",
    "param_grid_svc = {\n",
    "    'svc__C': [0.1, 1, 10],\n",
    "    'svc__kernel': ['linear', 'rbf'],\n",
    "    'svc__gamma': ['scale', 'auto']\n",
    "}"
   ]
  },
  {
   "cell_type": "code",
   "execution_count": 25,
   "id": "b087ccf3",
   "metadata": {},
   "outputs": [],
   "source": [
    "# Create a GridSearchCV object for each model, \n",
    "# providing the model, parameter grid, and the number of folds for cross-validation.\n",
    "\n",
    "grid_search_rf = GridSearchCV(\n",
    "    make_pipeline(preprocessor, RandomForestClassifier()), \n",
    "    param_grid=param_grid_rf, \n",
    "    cv=5,\n",
    "    scoring='accuracy',\n",
    "    n_jobs=-1\n",
    ")\n",
    "\n",
    "grid_search_svc = GridSearchCV(\n",
    "    make_pipeline(preprocessor, SVC()), \n",
    "    param_grid=param_grid_svc, \n",
    "    cv=5,\n",
    "    scoring='accuracy',\n",
    "    n_jobs=-1\n",
    ")"
   ]
  },
  {
   "cell_type": "markdown",
   "id": "d534f582",
   "metadata": {},
   "source": [
    "#### Fit the GridSearchCV object on your training data."
   ]
  },
  {
   "cell_type": "code",
   "execution_count": 26,
   "id": "712a5915",
   "metadata": {},
   "outputs": [
    {
     "data": {
      "text/html": [
       "<style>#sk-container-id-1 {color: black;}#sk-container-id-1 pre{padding: 0;}#sk-container-id-1 div.sk-toggleable {background-color: white;}#sk-container-id-1 label.sk-toggleable__label {cursor: pointer;display: block;width: 100%;margin-bottom: 0;padding: 0.3em;box-sizing: border-box;text-align: center;}#sk-container-id-1 label.sk-toggleable__label-arrow:before {content: \"▸\";float: left;margin-right: 0.25em;color: #696969;}#sk-container-id-1 label.sk-toggleable__label-arrow:hover:before {color: black;}#sk-container-id-1 div.sk-estimator:hover label.sk-toggleable__label-arrow:before {color: black;}#sk-container-id-1 div.sk-toggleable__content {max-height: 0;max-width: 0;overflow: hidden;text-align: left;background-color: #f0f8ff;}#sk-container-id-1 div.sk-toggleable__content pre {margin: 0.2em;color: black;border-radius: 0.25em;background-color: #f0f8ff;}#sk-container-id-1 input.sk-toggleable__control:checked~div.sk-toggleable__content {max-height: 200px;max-width: 100%;overflow: auto;}#sk-container-id-1 input.sk-toggleable__control:checked~label.sk-toggleable__label-arrow:before {content: \"▾\";}#sk-container-id-1 div.sk-estimator input.sk-toggleable__control:checked~label.sk-toggleable__label {background-color: #d4ebff;}#sk-container-id-1 div.sk-label input.sk-toggleable__control:checked~label.sk-toggleable__label {background-color: #d4ebff;}#sk-container-id-1 input.sk-hidden--visually {border: 0;clip: rect(1px 1px 1px 1px);clip: rect(1px, 1px, 1px, 1px);height: 1px;margin: -1px;overflow: hidden;padding: 0;position: absolute;width: 1px;}#sk-container-id-1 div.sk-estimator {font-family: monospace;background-color: #f0f8ff;border: 1px dotted black;border-radius: 0.25em;box-sizing: border-box;margin-bottom: 0.5em;}#sk-container-id-1 div.sk-estimator:hover {background-color: #d4ebff;}#sk-container-id-1 div.sk-parallel-item::after {content: \"\";width: 100%;border-bottom: 1px solid gray;flex-grow: 1;}#sk-container-id-1 div.sk-label:hover label.sk-toggleable__label {background-color: #d4ebff;}#sk-container-id-1 div.sk-serial::before {content: \"\";position: absolute;border-left: 1px solid gray;box-sizing: border-box;top: 0;bottom: 0;left: 50%;z-index: 0;}#sk-container-id-1 div.sk-serial {display: flex;flex-direction: column;align-items: center;background-color: white;padding-right: 0.2em;padding-left: 0.2em;position: relative;}#sk-container-id-1 div.sk-item {position: relative;z-index: 1;}#sk-container-id-1 div.sk-parallel {display: flex;align-items: stretch;justify-content: center;background-color: white;position: relative;}#sk-container-id-1 div.sk-item::before, #sk-container-id-1 div.sk-parallel-item::before {content: \"\";position: absolute;border-left: 1px solid gray;box-sizing: border-box;top: 0;bottom: 0;left: 50%;z-index: -1;}#sk-container-id-1 div.sk-parallel-item {display: flex;flex-direction: column;z-index: 1;position: relative;background-color: white;}#sk-container-id-1 div.sk-parallel-item:first-child::after {align-self: flex-end;width: 50%;}#sk-container-id-1 div.sk-parallel-item:last-child::after {align-self: flex-start;width: 50%;}#sk-container-id-1 div.sk-parallel-item:only-child::after {width: 0;}#sk-container-id-1 div.sk-dashed-wrapped {border: 1px dashed gray;margin: 0 0.4em 0.5em 0.4em;box-sizing: border-box;padding-bottom: 0.4em;background-color: white;}#sk-container-id-1 div.sk-label label {font-family: monospace;font-weight: bold;display: inline-block;line-height: 1.2em;}#sk-container-id-1 div.sk-label-container {text-align: center;}#sk-container-id-1 div.sk-container {/* jupyter's `normalize.less` sets `[hidden] { display: none; }` but bootstrap.min.css set `[hidden] { display: none !important; }` so we also need the `!important` here to be able to override the default hidden behavior on the sphinx rendered scikit-learn.org. See: https://github.com/scikit-learn/scikit-learn/issues/21755 */display: inline-block !important;position: relative;}#sk-container-id-1 div.sk-text-repr-fallback {display: none;}</style><div id=\"sk-container-id-1\" class=\"sk-top-container\"><div class=\"sk-text-repr-fallback\"><pre>GridSearchCV(cv=5,\n",
       "             estimator=Pipeline(steps=[(&#x27;columntransformer&#x27;,\n",
       "                                        ColumnTransformer(transformers=[(&#x27;pipeline-1&#x27;,\n",
       "                                                                         Pipeline(steps=[(&#x27;standardscaler&#x27;,\n",
       "                                                                                          StandardScaler())]),\n",
       "                                                                         [&#x27;Administrative&#x27;,\n",
       "                                                                          &#x27;Administrative_Duration&#x27;,\n",
       "                                                                          &#x27;Informational&#x27;,\n",
       "                                                                          &#x27;Informational_Duration&#x27;,\n",
       "                                                                          &#x27;ProductRelated&#x27;,\n",
       "                                                                          &#x27;ProductRelated_Duration&#x27;,\n",
       "                                                                          &#x27;BounceRates&#x27;,\n",
       "                                                                          &#x27;ExitRates&#x27;,\n",
       "                                                                          &#x27;PageValues&#x27;,\n",
       "                                                                          &#x27;SpecialDay&#x27;,\n",
       "                                                                          &#x27;OperatingSystems&#x27;,\n",
       "                                                                          &#x27;Browser&#x27;,\n",
       "                                                                          &#x27;Region&#x27;,\n",
       "                                                                          &#x27;TrafficType&#x27;]),\n",
       "                                                                        (&#x27;pipeline-2&#x27;,\n",
       "                                                                         Pipeline(steps=[(&#x27;onehotencoder&#x27;,\n",
       "                                                                                          OneHotEncoder(drop=&#x27;if_binary&#x27;,\n",
       "                                                                                                        handle_unknown=&#x27;ignore&#x27;))]),\n",
       "                                                                         [&#x27;Month&#x27;,\n",
       "                                                                          &#x27;VisitorType&#x27;,\n",
       "                                                                          &#x27;Weekend&#x27;])])),\n",
       "                                       (&#x27;svc&#x27;, SVC())]),\n",
       "             n_jobs=-1,\n",
       "             param_grid={&#x27;svc__C&#x27;: [0.1, 1, 10],\n",
       "                         &#x27;svc__gamma&#x27;: [&#x27;scale&#x27;, &#x27;auto&#x27;],\n",
       "                         &#x27;svc__kernel&#x27;: [&#x27;linear&#x27;, &#x27;rbf&#x27;]},\n",
       "             scoring=&#x27;accuracy&#x27;)</pre><b>In a Jupyter environment, please rerun this cell to show the HTML representation or trust the notebook. <br />On GitHub, the HTML representation is unable to render, please try loading this page with nbviewer.org.</b></div><div class=\"sk-container\" hidden><div class=\"sk-item sk-dashed-wrapped\"><div class=\"sk-label-container\"><div class=\"sk-label sk-toggleable\"><input class=\"sk-toggleable__control sk-hidden--visually\" id=\"sk-estimator-id-1\" type=\"checkbox\" ><label for=\"sk-estimator-id-1\" class=\"sk-toggleable__label sk-toggleable__label-arrow\">GridSearchCV</label><div class=\"sk-toggleable__content\"><pre>GridSearchCV(cv=5,\n",
       "             estimator=Pipeline(steps=[(&#x27;columntransformer&#x27;,\n",
       "                                        ColumnTransformer(transformers=[(&#x27;pipeline-1&#x27;,\n",
       "                                                                         Pipeline(steps=[(&#x27;standardscaler&#x27;,\n",
       "                                                                                          StandardScaler())]),\n",
       "                                                                         [&#x27;Administrative&#x27;,\n",
       "                                                                          &#x27;Administrative_Duration&#x27;,\n",
       "                                                                          &#x27;Informational&#x27;,\n",
       "                                                                          &#x27;Informational_Duration&#x27;,\n",
       "                                                                          &#x27;ProductRelated&#x27;,\n",
       "                                                                          &#x27;ProductRelated_Duration&#x27;,\n",
       "                                                                          &#x27;BounceRates&#x27;,\n",
       "                                                                          &#x27;ExitRates&#x27;,\n",
       "                                                                          &#x27;PageValues&#x27;,\n",
       "                                                                          &#x27;SpecialDay&#x27;,\n",
       "                                                                          &#x27;OperatingSystems&#x27;,\n",
       "                                                                          &#x27;Browser&#x27;,\n",
       "                                                                          &#x27;Region&#x27;,\n",
       "                                                                          &#x27;TrafficType&#x27;]),\n",
       "                                                                        (&#x27;pipeline-2&#x27;,\n",
       "                                                                         Pipeline(steps=[(&#x27;onehotencoder&#x27;,\n",
       "                                                                                          OneHotEncoder(drop=&#x27;if_binary&#x27;,\n",
       "                                                                                                        handle_unknown=&#x27;ignore&#x27;))]),\n",
       "                                                                         [&#x27;Month&#x27;,\n",
       "                                                                          &#x27;VisitorType&#x27;,\n",
       "                                                                          &#x27;Weekend&#x27;])])),\n",
       "                                       (&#x27;svc&#x27;, SVC())]),\n",
       "             n_jobs=-1,\n",
       "             param_grid={&#x27;svc__C&#x27;: [0.1, 1, 10],\n",
       "                         &#x27;svc__gamma&#x27;: [&#x27;scale&#x27;, &#x27;auto&#x27;],\n",
       "                         &#x27;svc__kernel&#x27;: [&#x27;linear&#x27;, &#x27;rbf&#x27;]},\n",
       "             scoring=&#x27;accuracy&#x27;)</pre></div></div></div><div class=\"sk-parallel\"><div class=\"sk-parallel-item\"><div class=\"sk-item\"><div class=\"sk-label-container\"><div class=\"sk-label sk-toggleable\"><input class=\"sk-toggleable__control sk-hidden--visually\" id=\"sk-estimator-id-2\" type=\"checkbox\" ><label for=\"sk-estimator-id-2\" class=\"sk-toggleable__label sk-toggleable__label-arrow\">estimator: Pipeline</label><div class=\"sk-toggleable__content\"><pre>Pipeline(steps=[(&#x27;columntransformer&#x27;,\n",
       "                 ColumnTransformer(transformers=[(&#x27;pipeline-1&#x27;,\n",
       "                                                  Pipeline(steps=[(&#x27;standardscaler&#x27;,\n",
       "                                                                   StandardScaler())]),\n",
       "                                                  [&#x27;Administrative&#x27;,\n",
       "                                                   &#x27;Administrative_Duration&#x27;,\n",
       "                                                   &#x27;Informational&#x27;,\n",
       "                                                   &#x27;Informational_Duration&#x27;,\n",
       "                                                   &#x27;ProductRelated&#x27;,\n",
       "                                                   &#x27;ProductRelated_Duration&#x27;,\n",
       "                                                   &#x27;BounceRates&#x27;, &#x27;ExitRates&#x27;,\n",
       "                                                   &#x27;PageValues&#x27;, &#x27;SpecialDay&#x27;,\n",
       "                                                   &#x27;OperatingSystems&#x27;,\n",
       "                                                   &#x27;Browser&#x27;, &#x27;Region&#x27;,\n",
       "                                                   &#x27;TrafficType&#x27;]),\n",
       "                                                 (&#x27;pipeline-2&#x27;,\n",
       "                                                  Pipeline(steps=[(&#x27;onehotencoder&#x27;,\n",
       "                                                                   OneHotEncoder(drop=&#x27;if_binary&#x27;,\n",
       "                                                                                 handle_unknown=&#x27;ignore&#x27;))]),\n",
       "                                                  [&#x27;Month&#x27;, &#x27;VisitorType&#x27;,\n",
       "                                                   &#x27;Weekend&#x27;])])),\n",
       "                (&#x27;svc&#x27;, SVC())])</pre></div></div></div><div class=\"sk-serial\"><div class=\"sk-item\"><div class=\"sk-serial\"><div class=\"sk-item sk-dashed-wrapped\"><div class=\"sk-label-container\"><div class=\"sk-label sk-toggleable\"><input class=\"sk-toggleable__control sk-hidden--visually\" id=\"sk-estimator-id-3\" type=\"checkbox\" ><label for=\"sk-estimator-id-3\" class=\"sk-toggleable__label sk-toggleable__label-arrow\">columntransformer: ColumnTransformer</label><div class=\"sk-toggleable__content\"><pre>ColumnTransformer(transformers=[(&#x27;pipeline-1&#x27;,\n",
       "                                 Pipeline(steps=[(&#x27;standardscaler&#x27;,\n",
       "                                                  StandardScaler())]),\n",
       "                                 [&#x27;Administrative&#x27;, &#x27;Administrative_Duration&#x27;,\n",
       "                                  &#x27;Informational&#x27;, &#x27;Informational_Duration&#x27;,\n",
       "                                  &#x27;ProductRelated&#x27;, &#x27;ProductRelated_Duration&#x27;,\n",
       "                                  &#x27;BounceRates&#x27;, &#x27;ExitRates&#x27;, &#x27;PageValues&#x27;,\n",
       "                                  &#x27;SpecialDay&#x27;, &#x27;OperatingSystems&#x27;, &#x27;Browser&#x27;,\n",
       "                                  &#x27;Region&#x27;, &#x27;TrafficType&#x27;]),\n",
       "                                (&#x27;pipeline-2&#x27;,\n",
       "                                 Pipeline(steps=[(&#x27;onehotencoder&#x27;,\n",
       "                                                  OneHotEncoder(drop=&#x27;if_binary&#x27;,\n",
       "                                                                handle_unknown=&#x27;ignore&#x27;))]),\n",
       "                                 [&#x27;Month&#x27;, &#x27;VisitorType&#x27;, &#x27;Weekend&#x27;])])</pre></div></div></div><div class=\"sk-parallel\"><div class=\"sk-parallel-item\"><div class=\"sk-item\"><div class=\"sk-label-container\"><div class=\"sk-label sk-toggleable\"><input class=\"sk-toggleable__control sk-hidden--visually\" id=\"sk-estimator-id-4\" type=\"checkbox\" ><label for=\"sk-estimator-id-4\" class=\"sk-toggleable__label sk-toggleable__label-arrow\">pipeline-1</label><div class=\"sk-toggleable__content\"><pre>[&#x27;Administrative&#x27;, &#x27;Administrative_Duration&#x27;, &#x27;Informational&#x27;, &#x27;Informational_Duration&#x27;, &#x27;ProductRelated&#x27;, &#x27;ProductRelated_Duration&#x27;, &#x27;BounceRates&#x27;, &#x27;ExitRates&#x27;, &#x27;PageValues&#x27;, &#x27;SpecialDay&#x27;, &#x27;OperatingSystems&#x27;, &#x27;Browser&#x27;, &#x27;Region&#x27;, &#x27;TrafficType&#x27;]</pre></div></div></div><div class=\"sk-serial\"><div class=\"sk-item\"><div class=\"sk-serial\"><div class=\"sk-item\"><div class=\"sk-estimator sk-toggleable\"><input class=\"sk-toggleable__control sk-hidden--visually\" id=\"sk-estimator-id-5\" type=\"checkbox\" ><label for=\"sk-estimator-id-5\" class=\"sk-toggleable__label sk-toggleable__label-arrow\">StandardScaler</label><div class=\"sk-toggleable__content\"><pre>StandardScaler()</pre></div></div></div></div></div></div></div></div><div class=\"sk-parallel-item\"><div class=\"sk-item\"><div class=\"sk-label-container\"><div class=\"sk-label sk-toggleable\"><input class=\"sk-toggleable__control sk-hidden--visually\" id=\"sk-estimator-id-6\" type=\"checkbox\" ><label for=\"sk-estimator-id-6\" class=\"sk-toggleable__label sk-toggleable__label-arrow\">pipeline-2</label><div class=\"sk-toggleable__content\"><pre>[&#x27;Month&#x27;, &#x27;VisitorType&#x27;, &#x27;Weekend&#x27;]</pre></div></div></div><div class=\"sk-serial\"><div class=\"sk-item\"><div class=\"sk-serial\"><div class=\"sk-item\"><div class=\"sk-estimator sk-toggleable\"><input class=\"sk-toggleable__control sk-hidden--visually\" id=\"sk-estimator-id-7\" type=\"checkbox\" ><label for=\"sk-estimator-id-7\" class=\"sk-toggleable__label sk-toggleable__label-arrow\">OneHotEncoder</label><div class=\"sk-toggleable__content\"><pre>OneHotEncoder(drop=&#x27;if_binary&#x27;, handle_unknown=&#x27;ignore&#x27;)</pre></div></div></div></div></div></div></div></div></div></div><div class=\"sk-item\"><div class=\"sk-estimator sk-toggleable\"><input class=\"sk-toggleable__control sk-hidden--visually\" id=\"sk-estimator-id-8\" type=\"checkbox\" ><label for=\"sk-estimator-id-8\" class=\"sk-toggleable__label sk-toggleable__label-arrow\">SVC</label><div class=\"sk-toggleable__content\"><pre>SVC()</pre></div></div></div></div></div></div></div></div></div></div></div></div>"
      ],
      "text/plain": [
       "GridSearchCV(cv=5,\n",
       "             estimator=Pipeline(steps=[('columntransformer',\n",
       "                                        ColumnTransformer(transformers=[('pipeline-1',\n",
       "                                                                         Pipeline(steps=[('standardscaler',\n",
       "                                                                                          StandardScaler())]),\n",
       "                                                                         ['Administrative',\n",
       "                                                                          'Administrative_Duration',\n",
       "                                                                          'Informational',\n",
       "                                                                          'Informational_Duration',\n",
       "                                                                          'ProductRelated',\n",
       "                                                                          'ProductRelated_Duration',\n",
       "                                                                          'BounceRates',\n",
       "                                                                          'ExitRates',\n",
       "                                                                          'PageValues',\n",
       "                                                                          'SpecialDay',\n",
       "                                                                          'OperatingSystems',\n",
       "                                                                          'Browser',\n",
       "                                                                          'Region',\n",
       "                                                                          'TrafficType']),\n",
       "                                                                        ('pipeline-2',\n",
       "                                                                         Pipeline(steps=[('onehotencoder',\n",
       "                                                                                          OneHotEncoder(drop='if_binary',\n",
       "                                                                                                        handle_unknown='ignore'))]),\n",
       "                                                                         ['Month',\n",
       "                                                                          'VisitorType',\n",
       "                                                                          'Weekend'])])),\n",
       "                                       ('svc', SVC())]),\n",
       "             n_jobs=-1,\n",
       "             param_grid={'svc__C': [0.1, 1, 10],\n",
       "                         'svc__gamma': ['scale', 'auto'],\n",
       "                         'svc__kernel': ['linear', 'rbf']},\n",
       "             scoring='accuracy')"
      ]
     },
     "execution_count": 26,
     "metadata": {},
     "output_type": "execute_result"
    }
   ],
   "source": [
    "grid_search_svc.fit(X_train, y_train)"
   ]
  },
  {
   "cell_type": "code",
   "execution_count": 27,
   "id": "529b006e",
   "metadata": {},
   "outputs": [
    {
     "data": {
      "text/html": [
       "<style>#sk-container-id-2 {color: black;}#sk-container-id-2 pre{padding: 0;}#sk-container-id-2 div.sk-toggleable {background-color: white;}#sk-container-id-2 label.sk-toggleable__label {cursor: pointer;display: block;width: 100%;margin-bottom: 0;padding: 0.3em;box-sizing: border-box;text-align: center;}#sk-container-id-2 label.sk-toggleable__label-arrow:before {content: \"▸\";float: left;margin-right: 0.25em;color: #696969;}#sk-container-id-2 label.sk-toggleable__label-arrow:hover:before {color: black;}#sk-container-id-2 div.sk-estimator:hover label.sk-toggleable__label-arrow:before {color: black;}#sk-container-id-2 div.sk-toggleable__content {max-height: 0;max-width: 0;overflow: hidden;text-align: left;background-color: #f0f8ff;}#sk-container-id-2 div.sk-toggleable__content pre {margin: 0.2em;color: black;border-radius: 0.25em;background-color: #f0f8ff;}#sk-container-id-2 input.sk-toggleable__control:checked~div.sk-toggleable__content {max-height: 200px;max-width: 100%;overflow: auto;}#sk-container-id-2 input.sk-toggleable__control:checked~label.sk-toggleable__label-arrow:before {content: \"▾\";}#sk-container-id-2 div.sk-estimator input.sk-toggleable__control:checked~label.sk-toggleable__label {background-color: #d4ebff;}#sk-container-id-2 div.sk-label input.sk-toggleable__control:checked~label.sk-toggleable__label {background-color: #d4ebff;}#sk-container-id-2 input.sk-hidden--visually {border: 0;clip: rect(1px 1px 1px 1px);clip: rect(1px, 1px, 1px, 1px);height: 1px;margin: -1px;overflow: hidden;padding: 0;position: absolute;width: 1px;}#sk-container-id-2 div.sk-estimator {font-family: monospace;background-color: #f0f8ff;border: 1px dotted black;border-radius: 0.25em;box-sizing: border-box;margin-bottom: 0.5em;}#sk-container-id-2 div.sk-estimator:hover {background-color: #d4ebff;}#sk-container-id-2 div.sk-parallel-item::after {content: \"\";width: 100%;border-bottom: 1px solid gray;flex-grow: 1;}#sk-container-id-2 div.sk-label:hover label.sk-toggleable__label {background-color: #d4ebff;}#sk-container-id-2 div.sk-serial::before {content: \"\";position: absolute;border-left: 1px solid gray;box-sizing: border-box;top: 0;bottom: 0;left: 50%;z-index: 0;}#sk-container-id-2 div.sk-serial {display: flex;flex-direction: column;align-items: center;background-color: white;padding-right: 0.2em;padding-left: 0.2em;position: relative;}#sk-container-id-2 div.sk-item {position: relative;z-index: 1;}#sk-container-id-2 div.sk-parallel {display: flex;align-items: stretch;justify-content: center;background-color: white;position: relative;}#sk-container-id-2 div.sk-item::before, #sk-container-id-2 div.sk-parallel-item::before {content: \"\";position: absolute;border-left: 1px solid gray;box-sizing: border-box;top: 0;bottom: 0;left: 50%;z-index: -1;}#sk-container-id-2 div.sk-parallel-item {display: flex;flex-direction: column;z-index: 1;position: relative;background-color: white;}#sk-container-id-2 div.sk-parallel-item:first-child::after {align-self: flex-end;width: 50%;}#sk-container-id-2 div.sk-parallel-item:last-child::after {align-self: flex-start;width: 50%;}#sk-container-id-2 div.sk-parallel-item:only-child::after {width: 0;}#sk-container-id-2 div.sk-dashed-wrapped {border: 1px dashed gray;margin: 0 0.4em 0.5em 0.4em;box-sizing: border-box;padding-bottom: 0.4em;background-color: white;}#sk-container-id-2 div.sk-label label {font-family: monospace;font-weight: bold;display: inline-block;line-height: 1.2em;}#sk-container-id-2 div.sk-label-container {text-align: center;}#sk-container-id-2 div.sk-container {/* jupyter's `normalize.less` sets `[hidden] { display: none; }` but bootstrap.min.css set `[hidden] { display: none !important; }` so we also need the `!important` here to be able to override the default hidden behavior on the sphinx rendered scikit-learn.org. See: https://github.com/scikit-learn/scikit-learn/issues/21755 */display: inline-block !important;position: relative;}#sk-container-id-2 div.sk-text-repr-fallback {display: none;}</style><div id=\"sk-container-id-2\" class=\"sk-top-container\"><div class=\"sk-text-repr-fallback\"><pre>GridSearchCV(cv=5,\n",
       "             estimator=Pipeline(steps=[(&#x27;columntransformer&#x27;,\n",
       "                                        ColumnTransformer(transformers=[(&#x27;pipeline-1&#x27;,\n",
       "                                                                         Pipeline(steps=[(&#x27;standardscaler&#x27;,\n",
       "                                                                                          StandardScaler())]),\n",
       "                                                                         [&#x27;Administrative&#x27;,\n",
       "                                                                          &#x27;Administrative_Duration&#x27;,\n",
       "                                                                          &#x27;Informational&#x27;,\n",
       "                                                                          &#x27;Informational_Duration&#x27;,\n",
       "                                                                          &#x27;ProductRelated&#x27;,\n",
       "                                                                          &#x27;ProductRelated_Duration&#x27;,\n",
       "                                                                          &#x27;BounceRates&#x27;,\n",
       "                                                                          &#x27;ExitRates&#x27;,\n",
       "                                                                          &#x27;PageValues&#x27;,\n",
       "                                                                          &#x27;SpecialDay&#x27;,\n",
       "                                                                          &#x27;Oper...\n",
       "                                                                                                        handle_unknown=&#x27;ignore&#x27;))]),\n",
       "                                                                         [&#x27;Month&#x27;,\n",
       "                                                                          &#x27;VisitorType&#x27;,\n",
       "                                                                          &#x27;Weekend&#x27;])])),\n",
       "                                       (&#x27;randomforestclassifier&#x27;,\n",
       "                                        RandomForestClassifier())]),\n",
       "             n_jobs=-1,\n",
       "             param_grid={&#x27;randomforestclassifier__max_depth&#x27;: [None, 10, 20],\n",
       "                         &#x27;randomforestclassifier__min_samples_leaf&#x27;: [1, 2],\n",
       "                         &#x27;randomforestclassifier__min_samples_split&#x27;: [2, 5],\n",
       "                         &#x27;randomforestclassifier__n_estimators&#x27;: [50, 100,\n",
       "                                                                  150]},\n",
       "             scoring=&#x27;accuracy&#x27;)</pre><b>In a Jupyter environment, please rerun this cell to show the HTML representation or trust the notebook. <br />On GitHub, the HTML representation is unable to render, please try loading this page with nbviewer.org.</b></div><div class=\"sk-container\" hidden><div class=\"sk-item sk-dashed-wrapped\"><div class=\"sk-label-container\"><div class=\"sk-label sk-toggleable\"><input class=\"sk-toggleable__control sk-hidden--visually\" id=\"sk-estimator-id-9\" type=\"checkbox\" ><label for=\"sk-estimator-id-9\" class=\"sk-toggleable__label sk-toggleable__label-arrow\">GridSearchCV</label><div class=\"sk-toggleable__content\"><pre>GridSearchCV(cv=5,\n",
       "             estimator=Pipeline(steps=[(&#x27;columntransformer&#x27;,\n",
       "                                        ColumnTransformer(transformers=[(&#x27;pipeline-1&#x27;,\n",
       "                                                                         Pipeline(steps=[(&#x27;standardscaler&#x27;,\n",
       "                                                                                          StandardScaler())]),\n",
       "                                                                         [&#x27;Administrative&#x27;,\n",
       "                                                                          &#x27;Administrative_Duration&#x27;,\n",
       "                                                                          &#x27;Informational&#x27;,\n",
       "                                                                          &#x27;Informational_Duration&#x27;,\n",
       "                                                                          &#x27;ProductRelated&#x27;,\n",
       "                                                                          &#x27;ProductRelated_Duration&#x27;,\n",
       "                                                                          &#x27;BounceRates&#x27;,\n",
       "                                                                          &#x27;ExitRates&#x27;,\n",
       "                                                                          &#x27;PageValues&#x27;,\n",
       "                                                                          &#x27;SpecialDay&#x27;,\n",
       "                                                                          &#x27;Oper...\n",
       "                                                                                                        handle_unknown=&#x27;ignore&#x27;))]),\n",
       "                                                                         [&#x27;Month&#x27;,\n",
       "                                                                          &#x27;VisitorType&#x27;,\n",
       "                                                                          &#x27;Weekend&#x27;])])),\n",
       "                                       (&#x27;randomforestclassifier&#x27;,\n",
       "                                        RandomForestClassifier())]),\n",
       "             n_jobs=-1,\n",
       "             param_grid={&#x27;randomforestclassifier__max_depth&#x27;: [None, 10, 20],\n",
       "                         &#x27;randomforestclassifier__min_samples_leaf&#x27;: [1, 2],\n",
       "                         &#x27;randomforestclassifier__min_samples_split&#x27;: [2, 5],\n",
       "                         &#x27;randomforestclassifier__n_estimators&#x27;: [50, 100,\n",
       "                                                                  150]},\n",
       "             scoring=&#x27;accuracy&#x27;)</pre></div></div></div><div class=\"sk-parallel\"><div class=\"sk-parallel-item\"><div class=\"sk-item\"><div class=\"sk-label-container\"><div class=\"sk-label sk-toggleable\"><input class=\"sk-toggleable__control sk-hidden--visually\" id=\"sk-estimator-id-10\" type=\"checkbox\" ><label for=\"sk-estimator-id-10\" class=\"sk-toggleable__label sk-toggleable__label-arrow\">estimator: Pipeline</label><div class=\"sk-toggleable__content\"><pre>Pipeline(steps=[(&#x27;columntransformer&#x27;,\n",
       "                 ColumnTransformer(transformers=[(&#x27;pipeline-1&#x27;,\n",
       "                                                  Pipeline(steps=[(&#x27;standardscaler&#x27;,\n",
       "                                                                   StandardScaler())]),\n",
       "                                                  [&#x27;Administrative&#x27;,\n",
       "                                                   &#x27;Administrative_Duration&#x27;,\n",
       "                                                   &#x27;Informational&#x27;,\n",
       "                                                   &#x27;Informational_Duration&#x27;,\n",
       "                                                   &#x27;ProductRelated&#x27;,\n",
       "                                                   &#x27;ProductRelated_Duration&#x27;,\n",
       "                                                   &#x27;BounceRates&#x27;, &#x27;ExitRates&#x27;,\n",
       "                                                   &#x27;PageValues&#x27;, &#x27;SpecialDay&#x27;,\n",
       "                                                   &#x27;OperatingSystems&#x27;,\n",
       "                                                   &#x27;Browser&#x27;, &#x27;Region&#x27;,\n",
       "                                                   &#x27;TrafficType&#x27;]),\n",
       "                                                 (&#x27;pipeline-2&#x27;,\n",
       "                                                  Pipeline(steps=[(&#x27;onehotencoder&#x27;,\n",
       "                                                                   OneHotEncoder(drop=&#x27;if_binary&#x27;,\n",
       "                                                                                 handle_unknown=&#x27;ignore&#x27;))]),\n",
       "                                                  [&#x27;Month&#x27;, &#x27;VisitorType&#x27;,\n",
       "                                                   &#x27;Weekend&#x27;])])),\n",
       "                (&#x27;randomforestclassifier&#x27;, RandomForestClassifier())])</pre></div></div></div><div class=\"sk-serial\"><div class=\"sk-item\"><div class=\"sk-serial\"><div class=\"sk-item sk-dashed-wrapped\"><div class=\"sk-label-container\"><div class=\"sk-label sk-toggleable\"><input class=\"sk-toggleable__control sk-hidden--visually\" id=\"sk-estimator-id-11\" type=\"checkbox\" ><label for=\"sk-estimator-id-11\" class=\"sk-toggleable__label sk-toggleable__label-arrow\">columntransformer: ColumnTransformer</label><div class=\"sk-toggleable__content\"><pre>ColumnTransformer(transformers=[(&#x27;pipeline-1&#x27;,\n",
       "                                 Pipeline(steps=[(&#x27;standardscaler&#x27;,\n",
       "                                                  StandardScaler())]),\n",
       "                                 [&#x27;Administrative&#x27;, &#x27;Administrative_Duration&#x27;,\n",
       "                                  &#x27;Informational&#x27;, &#x27;Informational_Duration&#x27;,\n",
       "                                  &#x27;ProductRelated&#x27;, &#x27;ProductRelated_Duration&#x27;,\n",
       "                                  &#x27;BounceRates&#x27;, &#x27;ExitRates&#x27;, &#x27;PageValues&#x27;,\n",
       "                                  &#x27;SpecialDay&#x27;, &#x27;OperatingSystems&#x27;, &#x27;Browser&#x27;,\n",
       "                                  &#x27;Region&#x27;, &#x27;TrafficType&#x27;]),\n",
       "                                (&#x27;pipeline-2&#x27;,\n",
       "                                 Pipeline(steps=[(&#x27;onehotencoder&#x27;,\n",
       "                                                  OneHotEncoder(drop=&#x27;if_binary&#x27;,\n",
       "                                                                handle_unknown=&#x27;ignore&#x27;))]),\n",
       "                                 [&#x27;Month&#x27;, &#x27;VisitorType&#x27;, &#x27;Weekend&#x27;])])</pre></div></div></div><div class=\"sk-parallel\"><div class=\"sk-parallel-item\"><div class=\"sk-item\"><div class=\"sk-label-container\"><div class=\"sk-label sk-toggleable\"><input class=\"sk-toggleable__control sk-hidden--visually\" id=\"sk-estimator-id-12\" type=\"checkbox\" ><label for=\"sk-estimator-id-12\" class=\"sk-toggleable__label sk-toggleable__label-arrow\">pipeline-1</label><div class=\"sk-toggleable__content\"><pre>[&#x27;Administrative&#x27;, &#x27;Administrative_Duration&#x27;, &#x27;Informational&#x27;, &#x27;Informational_Duration&#x27;, &#x27;ProductRelated&#x27;, &#x27;ProductRelated_Duration&#x27;, &#x27;BounceRates&#x27;, &#x27;ExitRates&#x27;, &#x27;PageValues&#x27;, &#x27;SpecialDay&#x27;, &#x27;OperatingSystems&#x27;, &#x27;Browser&#x27;, &#x27;Region&#x27;, &#x27;TrafficType&#x27;]</pre></div></div></div><div class=\"sk-serial\"><div class=\"sk-item\"><div class=\"sk-serial\"><div class=\"sk-item\"><div class=\"sk-estimator sk-toggleable\"><input class=\"sk-toggleable__control sk-hidden--visually\" id=\"sk-estimator-id-13\" type=\"checkbox\" ><label for=\"sk-estimator-id-13\" class=\"sk-toggleable__label sk-toggleable__label-arrow\">StandardScaler</label><div class=\"sk-toggleable__content\"><pre>StandardScaler()</pre></div></div></div></div></div></div></div></div><div class=\"sk-parallel-item\"><div class=\"sk-item\"><div class=\"sk-label-container\"><div class=\"sk-label sk-toggleable\"><input class=\"sk-toggleable__control sk-hidden--visually\" id=\"sk-estimator-id-14\" type=\"checkbox\" ><label for=\"sk-estimator-id-14\" class=\"sk-toggleable__label sk-toggleable__label-arrow\">pipeline-2</label><div class=\"sk-toggleable__content\"><pre>[&#x27;Month&#x27;, &#x27;VisitorType&#x27;, &#x27;Weekend&#x27;]</pre></div></div></div><div class=\"sk-serial\"><div class=\"sk-item\"><div class=\"sk-serial\"><div class=\"sk-item\"><div class=\"sk-estimator sk-toggleable\"><input class=\"sk-toggleable__control sk-hidden--visually\" id=\"sk-estimator-id-15\" type=\"checkbox\" ><label for=\"sk-estimator-id-15\" class=\"sk-toggleable__label sk-toggleable__label-arrow\">OneHotEncoder</label><div class=\"sk-toggleable__content\"><pre>OneHotEncoder(drop=&#x27;if_binary&#x27;, handle_unknown=&#x27;ignore&#x27;)</pre></div></div></div></div></div></div></div></div></div></div><div class=\"sk-item\"><div class=\"sk-estimator sk-toggleable\"><input class=\"sk-toggleable__control sk-hidden--visually\" id=\"sk-estimator-id-16\" type=\"checkbox\" ><label for=\"sk-estimator-id-16\" class=\"sk-toggleable__label sk-toggleable__label-arrow\">RandomForestClassifier</label><div class=\"sk-toggleable__content\"><pre>RandomForestClassifier()</pre></div></div></div></div></div></div></div></div></div></div></div></div>"
      ],
      "text/plain": [
       "GridSearchCV(cv=5,\n",
       "             estimator=Pipeline(steps=[('columntransformer',\n",
       "                                        ColumnTransformer(transformers=[('pipeline-1',\n",
       "                                                                         Pipeline(steps=[('standardscaler',\n",
       "                                                                                          StandardScaler())]),\n",
       "                                                                         ['Administrative',\n",
       "                                                                          'Administrative_Duration',\n",
       "                                                                          'Informational',\n",
       "                                                                          'Informational_Duration',\n",
       "                                                                          'ProductRelated',\n",
       "                                                                          'ProductRelated_Duration',\n",
       "                                                                          'BounceRates',\n",
       "                                                                          'ExitRates',\n",
       "                                                                          'PageValues',\n",
       "                                                                          'SpecialDay',\n",
       "                                                                          'Oper...\n",
       "                                                                                                        handle_unknown='ignore'))]),\n",
       "                                                                         ['Month',\n",
       "                                                                          'VisitorType',\n",
       "                                                                          'Weekend'])])),\n",
       "                                       ('randomforestclassifier',\n",
       "                                        RandomForestClassifier())]),\n",
       "             n_jobs=-1,\n",
       "             param_grid={'randomforestclassifier__max_depth': [None, 10, 20],\n",
       "                         'randomforestclassifier__min_samples_leaf': [1, 2],\n",
       "                         'randomforestclassifier__min_samples_split': [2, 5],\n",
       "                         'randomforestclassifier__n_estimators': [50, 100,\n",
       "                                                                  150]},\n",
       "             scoring='accuracy')"
      ]
     },
     "execution_count": 27,
     "metadata": {},
     "output_type": "execute_result"
    }
   ],
   "source": [
    "grid_search_rf.fit(X_train, y_train)"
   ]
  },
  {
   "cell_type": "code",
   "execution_count": 28,
   "id": "f4104555",
   "metadata": {},
   "outputs": [
    {
     "name": "stdout",
     "output_type": "stream",
     "text": [
      "Random Forest score: 0.9084545008733521\n",
      "Random Forest params: {'randomforestclassifier__max_depth': 10, 'randomforestclassifier__min_samples_leaf': 2, 'randomforestclassifier__min_samples_split': 2, 'randomforestclassifier__n_estimators': 100}\n",
      "\n",
      "SVC score: 0.8984179424255851\n",
      "SVC params: {'svc__C': 10, 'svc__gamma': 'auto', 'svc__kernel': 'rbf'}\n"
     ]
    }
   ],
   "source": [
    "best_params_rf = grid_search_rf.best_params_\n",
    "best_score_rf = grid_search_rf.best_score_\n",
    "best_params_svc = grid_search_svc.best_params_\n",
    "best_score_svc = grid_search_svc.best_score_\n",
    "\n",
    "print(f\"Random Forest score: {best_score_rf}\")\n",
    "print(f\"Random Forest params: {best_params_rf}\\n\")\n",
    "\n",
    "print(f\"SVC score: {best_score_svc}\")\n",
    "print(f\"SVC params: {best_params_svc}\")"
   ]
  },
  {
   "cell_type": "code",
   "execution_count": 29,
   "id": "fbf329f6",
   "metadata": {},
   "outputs": [],
   "source": [
    "y_pred_rf = grid_search_rf.best_estimator_.predict(X_test)\n",
    "y_pred_svc = grid_search_svc.best_estimator_.predict(X_test)"
   ]
  },
  {
   "cell_type": "markdown",
   "id": "e5200cb5",
   "metadata": {},
   "source": [
    "#### Classification report on best estimators"
   ]
  },
  {
   "cell_type": "code",
   "execution_count": 30,
   "id": "72e670c5",
   "metadata": {},
   "outputs": [
    {
     "name": "stdout",
     "output_type": "stream",
     "text": [
      "Classification Report for Random Forest:\n",
      "              precision    recall  f1-score   support\n",
      "\n",
      "  No Revenue       0.91      0.97      0.94      2044\n",
      "     Revenue       0.78      0.51      0.62       422\n",
      "\n",
      "    accuracy                           0.89      2466\n",
      "   macro avg       0.84      0.74      0.78      2466\n",
      "weighted avg       0.88      0.89      0.88      2466\n",
      "\n"
     ]
    }
   ],
   "source": [
    "report_rf = classification_report(y_test, y_pred_rf, target_names=['No Revenue', 'Revenue'])\n",
    "\n",
    "print(\"Classification Report for Random Forest:\")\n",
    "print(report_rf)"
   ]
  },
  {
   "cell_type": "code",
   "execution_count": 31,
   "id": "dde7cca4",
   "metadata": {},
   "outputs": [
    {
     "name": "stdout",
     "output_type": "stream",
     "text": [
      "Classification Report for SVC:\n",
      "              precision    recall  f1-score   support\n",
      "\n",
      "  No Revenue       0.91      0.96      0.93      2044\n",
      "     Revenue       0.73      0.53      0.61       422\n",
      "\n",
      "    accuracy                           0.89      2466\n",
      "   macro avg       0.82      0.75      0.77      2466\n",
      "weighted avg       0.88      0.89      0.88      2466\n",
      "\n"
     ]
    }
   ],
   "source": [
    "report_svc = classification_report(y_test, y_pred_svc, target_names=['No Revenue', 'Revenue'])\n",
    "\n",
    "print(\"Classification Report for SVC:\")\n",
    "print(report_svc)"
   ]
  },
  {
   "cell_type": "markdown",
   "id": "dd98ede3",
   "metadata": {},
   "source": [
    "## Final Evaluation"
   ]
  },
  {
   "cell_type": "code",
   "execution_count": 32,
   "id": "96da1d51",
   "metadata": {},
   "outputs": [],
   "source": [
    "from sklearn.metrics import confusion_matrix, roc_curve, auc, accuracy_score, precision_score, recall_score, f1_score\n",
    "import matplotlib.pyplot as plt\n",
    "import seaborn as sns\n",
    "\n",
    "# Instantiate models with best parameters\n",
    "rf = RandomForestClassifier(\n",
    "    max_depth=10, \n",
    "    min_samples_leaf=1, \n",
    "    min_samples_split=5, \n",
    "    n_estimators=100,\n",
    "    random_state=0,\n",
    "    class_weight='balanced'\n",
    ")\n",
    "svc = SVC(C=10, gamma='auto', kernel='rbf', probability=True, random_state=0, class_weight='balanced')\n",
    "\n",
    "# Create pipelines\n",
    "pipeline_rf = make_pipeline(preprocessor, rf)\n",
    "pipeline_svc = make_pipeline(preprocessor, svc)"
   ]
  },
  {
   "cell_type": "markdown",
   "id": "d03b0dff",
   "metadata": {},
   "source": [
    "#### Fit the models"
   ]
  },
  {
   "cell_type": "code",
   "execution_count": 33,
   "id": "4dc2ef43",
   "metadata": {},
   "outputs": [
    {
     "data": {
      "text/html": [
       "<style>#sk-container-id-3 {color: black;}#sk-container-id-3 pre{padding: 0;}#sk-container-id-3 div.sk-toggleable {background-color: white;}#sk-container-id-3 label.sk-toggleable__label {cursor: pointer;display: block;width: 100%;margin-bottom: 0;padding: 0.3em;box-sizing: border-box;text-align: center;}#sk-container-id-3 label.sk-toggleable__label-arrow:before {content: \"▸\";float: left;margin-right: 0.25em;color: #696969;}#sk-container-id-3 label.sk-toggleable__label-arrow:hover:before {color: black;}#sk-container-id-3 div.sk-estimator:hover label.sk-toggleable__label-arrow:before {color: black;}#sk-container-id-3 div.sk-toggleable__content {max-height: 0;max-width: 0;overflow: hidden;text-align: left;background-color: #f0f8ff;}#sk-container-id-3 div.sk-toggleable__content pre {margin: 0.2em;color: black;border-radius: 0.25em;background-color: #f0f8ff;}#sk-container-id-3 input.sk-toggleable__control:checked~div.sk-toggleable__content {max-height: 200px;max-width: 100%;overflow: auto;}#sk-container-id-3 input.sk-toggleable__control:checked~label.sk-toggleable__label-arrow:before {content: \"▾\";}#sk-container-id-3 div.sk-estimator input.sk-toggleable__control:checked~label.sk-toggleable__label {background-color: #d4ebff;}#sk-container-id-3 div.sk-label input.sk-toggleable__control:checked~label.sk-toggleable__label {background-color: #d4ebff;}#sk-container-id-3 input.sk-hidden--visually {border: 0;clip: rect(1px 1px 1px 1px);clip: rect(1px, 1px, 1px, 1px);height: 1px;margin: -1px;overflow: hidden;padding: 0;position: absolute;width: 1px;}#sk-container-id-3 div.sk-estimator {font-family: monospace;background-color: #f0f8ff;border: 1px dotted black;border-radius: 0.25em;box-sizing: border-box;margin-bottom: 0.5em;}#sk-container-id-3 div.sk-estimator:hover {background-color: #d4ebff;}#sk-container-id-3 div.sk-parallel-item::after {content: \"\";width: 100%;border-bottom: 1px solid gray;flex-grow: 1;}#sk-container-id-3 div.sk-label:hover label.sk-toggleable__label {background-color: #d4ebff;}#sk-container-id-3 div.sk-serial::before {content: \"\";position: absolute;border-left: 1px solid gray;box-sizing: border-box;top: 0;bottom: 0;left: 50%;z-index: 0;}#sk-container-id-3 div.sk-serial {display: flex;flex-direction: column;align-items: center;background-color: white;padding-right: 0.2em;padding-left: 0.2em;position: relative;}#sk-container-id-3 div.sk-item {position: relative;z-index: 1;}#sk-container-id-3 div.sk-parallel {display: flex;align-items: stretch;justify-content: center;background-color: white;position: relative;}#sk-container-id-3 div.sk-item::before, #sk-container-id-3 div.sk-parallel-item::before {content: \"\";position: absolute;border-left: 1px solid gray;box-sizing: border-box;top: 0;bottom: 0;left: 50%;z-index: -1;}#sk-container-id-3 div.sk-parallel-item {display: flex;flex-direction: column;z-index: 1;position: relative;background-color: white;}#sk-container-id-3 div.sk-parallel-item:first-child::after {align-self: flex-end;width: 50%;}#sk-container-id-3 div.sk-parallel-item:last-child::after {align-self: flex-start;width: 50%;}#sk-container-id-3 div.sk-parallel-item:only-child::after {width: 0;}#sk-container-id-3 div.sk-dashed-wrapped {border: 1px dashed gray;margin: 0 0.4em 0.5em 0.4em;box-sizing: border-box;padding-bottom: 0.4em;background-color: white;}#sk-container-id-3 div.sk-label label {font-family: monospace;font-weight: bold;display: inline-block;line-height: 1.2em;}#sk-container-id-3 div.sk-label-container {text-align: center;}#sk-container-id-3 div.sk-container {/* jupyter's `normalize.less` sets `[hidden] { display: none; }` but bootstrap.min.css set `[hidden] { display: none !important; }` so we also need the `!important` here to be able to override the default hidden behavior on the sphinx rendered scikit-learn.org. See: https://github.com/scikit-learn/scikit-learn/issues/21755 */display: inline-block !important;position: relative;}#sk-container-id-3 div.sk-text-repr-fallback {display: none;}</style><div id=\"sk-container-id-3\" class=\"sk-top-container\"><div class=\"sk-text-repr-fallback\"><pre>Pipeline(steps=[(&#x27;columntransformer&#x27;,\n",
       "                 ColumnTransformer(transformers=[(&#x27;pipeline-1&#x27;,\n",
       "                                                  Pipeline(steps=[(&#x27;standardscaler&#x27;,\n",
       "                                                                   StandardScaler())]),\n",
       "                                                  [&#x27;Administrative&#x27;,\n",
       "                                                   &#x27;Administrative_Duration&#x27;,\n",
       "                                                   &#x27;Informational&#x27;,\n",
       "                                                   &#x27;Informational_Duration&#x27;,\n",
       "                                                   &#x27;ProductRelated&#x27;,\n",
       "                                                   &#x27;ProductRelated_Duration&#x27;,\n",
       "                                                   &#x27;BounceRates&#x27;, &#x27;ExitRates&#x27;,\n",
       "                                                   &#x27;PageValues&#x27;, &#x27;SpecialDay&#x27;,\n",
       "                                                   &#x27;OperatingSystems&#x27;,\n",
       "                                                   &#x27;Browser&#x27;, &#x27;Region&#x27;,\n",
       "                                                   &#x27;TrafficType&#x27;]),\n",
       "                                                 (&#x27;pipeline-2&#x27;,\n",
       "                                                  Pipeline(steps=[(&#x27;onehotencoder&#x27;,\n",
       "                                                                   OneHotEncoder(drop=&#x27;if_binary&#x27;,\n",
       "                                                                                 handle_unknown=&#x27;ignore&#x27;))]),\n",
       "                                                  [&#x27;Month&#x27;, &#x27;VisitorType&#x27;,\n",
       "                                                   &#x27;Weekend&#x27;])])),\n",
       "                (&#x27;randomforestclassifier&#x27;,\n",
       "                 RandomForestClassifier(class_weight=&#x27;balanced&#x27;, max_depth=10,\n",
       "                                        min_samples_split=5, random_state=0))])</pre><b>In a Jupyter environment, please rerun this cell to show the HTML representation or trust the notebook. <br />On GitHub, the HTML representation is unable to render, please try loading this page with nbviewer.org.</b></div><div class=\"sk-container\" hidden><div class=\"sk-item sk-dashed-wrapped\"><div class=\"sk-label-container\"><div class=\"sk-label sk-toggleable\"><input class=\"sk-toggleable__control sk-hidden--visually\" id=\"sk-estimator-id-17\" type=\"checkbox\" ><label for=\"sk-estimator-id-17\" class=\"sk-toggleable__label sk-toggleable__label-arrow\">Pipeline</label><div class=\"sk-toggleable__content\"><pre>Pipeline(steps=[(&#x27;columntransformer&#x27;,\n",
       "                 ColumnTransformer(transformers=[(&#x27;pipeline-1&#x27;,\n",
       "                                                  Pipeline(steps=[(&#x27;standardscaler&#x27;,\n",
       "                                                                   StandardScaler())]),\n",
       "                                                  [&#x27;Administrative&#x27;,\n",
       "                                                   &#x27;Administrative_Duration&#x27;,\n",
       "                                                   &#x27;Informational&#x27;,\n",
       "                                                   &#x27;Informational_Duration&#x27;,\n",
       "                                                   &#x27;ProductRelated&#x27;,\n",
       "                                                   &#x27;ProductRelated_Duration&#x27;,\n",
       "                                                   &#x27;BounceRates&#x27;, &#x27;ExitRates&#x27;,\n",
       "                                                   &#x27;PageValues&#x27;, &#x27;SpecialDay&#x27;,\n",
       "                                                   &#x27;OperatingSystems&#x27;,\n",
       "                                                   &#x27;Browser&#x27;, &#x27;Region&#x27;,\n",
       "                                                   &#x27;TrafficType&#x27;]),\n",
       "                                                 (&#x27;pipeline-2&#x27;,\n",
       "                                                  Pipeline(steps=[(&#x27;onehotencoder&#x27;,\n",
       "                                                                   OneHotEncoder(drop=&#x27;if_binary&#x27;,\n",
       "                                                                                 handle_unknown=&#x27;ignore&#x27;))]),\n",
       "                                                  [&#x27;Month&#x27;, &#x27;VisitorType&#x27;,\n",
       "                                                   &#x27;Weekend&#x27;])])),\n",
       "                (&#x27;randomforestclassifier&#x27;,\n",
       "                 RandomForestClassifier(class_weight=&#x27;balanced&#x27;, max_depth=10,\n",
       "                                        min_samples_split=5, random_state=0))])</pre></div></div></div><div class=\"sk-serial\"><div class=\"sk-item sk-dashed-wrapped\"><div class=\"sk-label-container\"><div class=\"sk-label sk-toggleable\"><input class=\"sk-toggleable__control sk-hidden--visually\" id=\"sk-estimator-id-18\" type=\"checkbox\" ><label for=\"sk-estimator-id-18\" class=\"sk-toggleable__label sk-toggleable__label-arrow\">columntransformer: ColumnTransformer</label><div class=\"sk-toggleable__content\"><pre>ColumnTransformer(transformers=[(&#x27;pipeline-1&#x27;,\n",
       "                                 Pipeline(steps=[(&#x27;standardscaler&#x27;,\n",
       "                                                  StandardScaler())]),\n",
       "                                 [&#x27;Administrative&#x27;, &#x27;Administrative_Duration&#x27;,\n",
       "                                  &#x27;Informational&#x27;, &#x27;Informational_Duration&#x27;,\n",
       "                                  &#x27;ProductRelated&#x27;, &#x27;ProductRelated_Duration&#x27;,\n",
       "                                  &#x27;BounceRates&#x27;, &#x27;ExitRates&#x27;, &#x27;PageValues&#x27;,\n",
       "                                  &#x27;SpecialDay&#x27;, &#x27;OperatingSystems&#x27;, &#x27;Browser&#x27;,\n",
       "                                  &#x27;Region&#x27;, &#x27;TrafficType&#x27;]),\n",
       "                                (&#x27;pipeline-2&#x27;,\n",
       "                                 Pipeline(steps=[(&#x27;onehotencoder&#x27;,\n",
       "                                                  OneHotEncoder(drop=&#x27;if_binary&#x27;,\n",
       "                                                                handle_unknown=&#x27;ignore&#x27;))]),\n",
       "                                 [&#x27;Month&#x27;, &#x27;VisitorType&#x27;, &#x27;Weekend&#x27;])])</pre></div></div></div><div class=\"sk-parallel\"><div class=\"sk-parallel-item\"><div class=\"sk-item\"><div class=\"sk-label-container\"><div class=\"sk-label sk-toggleable\"><input class=\"sk-toggleable__control sk-hidden--visually\" id=\"sk-estimator-id-19\" type=\"checkbox\" ><label for=\"sk-estimator-id-19\" class=\"sk-toggleable__label sk-toggleable__label-arrow\">pipeline-1</label><div class=\"sk-toggleable__content\"><pre>[&#x27;Administrative&#x27;, &#x27;Administrative_Duration&#x27;, &#x27;Informational&#x27;, &#x27;Informational_Duration&#x27;, &#x27;ProductRelated&#x27;, &#x27;ProductRelated_Duration&#x27;, &#x27;BounceRates&#x27;, &#x27;ExitRates&#x27;, &#x27;PageValues&#x27;, &#x27;SpecialDay&#x27;, &#x27;OperatingSystems&#x27;, &#x27;Browser&#x27;, &#x27;Region&#x27;, &#x27;TrafficType&#x27;]</pre></div></div></div><div class=\"sk-serial\"><div class=\"sk-item\"><div class=\"sk-serial\"><div class=\"sk-item\"><div class=\"sk-estimator sk-toggleable\"><input class=\"sk-toggleable__control sk-hidden--visually\" id=\"sk-estimator-id-20\" type=\"checkbox\" ><label for=\"sk-estimator-id-20\" class=\"sk-toggleable__label sk-toggleable__label-arrow\">StandardScaler</label><div class=\"sk-toggleable__content\"><pre>StandardScaler()</pre></div></div></div></div></div></div></div></div><div class=\"sk-parallel-item\"><div class=\"sk-item\"><div class=\"sk-label-container\"><div class=\"sk-label sk-toggleable\"><input class=\"sk-toggleable__control sk-hidden--visually\" id=\"sk-estimator-id-21\" type=\"checkbox\" ><label for=\"sk-estimator-id-21\" class=\"sk-toggleable__label sk-toggleable__label-arrow\">pipeline-2</label><div class=\"sk-toggleable__content\"><pre>[&#x27;Month&#x27;, &#x27;VisitorType&#x27;, &#x27;Weekend&#x27;]</pre></div></div></div><div class=\"sk-serial\"><div class=\"sk-item\"><div class=\"sk-serial\"><div class=\"sk-item\"><div class=\"sk-estimator sk-toggleable\"><input class=\"sk-toggleable__control sk-hidden--visually\" id=\"sk-estimator-id-22\" type=\"checkbox\" ><label for=\"sk-estimator-id-22\" class=\"sk-toggleable__label sk-toggleable__label-arrow\">OneHotEncoder</label><div class=\"sk-toggleable__content\"><pre>OneHotEncoder(drop=&#x27;if_binary&#x27;, handle_unknown=&#x27;ignore&#x27;)</pre></div></div></div></div></div></div></div></div></div></div><div class=\"sk-item\"><div class=\"sk-estimator sk-toggleable\"><input class=\"sk-toggleable__control sk-hidden--visually\" id=\"sk-estimator-id-23\" type=\"checkbox\" ><label for=\"sk-estimator-id-23\" class=\"sk-toggleable__label sk-toggleable__label-arrow\">RandomForestClassifier</label><div class=\"sk-toggleable__content\"><pre>RandomForestClassifier(class_weight=&#x27;balanced&#x27;, max_depth=10,\n",
       "                       min_samples_split=5, random_state=0)</pre></div></div></div></div></div></div></div>"
      ],
      "text/plain": [
       "Pipeline(steps=[('columntransformer',\n",
       "                 ColumnTransformer(transformers=[('pipeline-1',\n",
       "                                                  Pipeline(steps=[('standardscaler',\n",
       "                                                                   StandardScaler())]),\n",
       "                                                  ['Administrative',\n",
       "                                                   'Administrative_Duration',\n",
       "                                                   'Informational',\n",
       "                                                   'Informational_Duration',\n",
       "                                                   'ProductRelated',\n",
       "                                                   'ProductRelated_Duration',\n",
       "                                                   'BounceRates', 'ExitRates',\n",
       "                                                   'PageValues', 'SpecialDay',\n",
       "                                                   'OperatingSystems',\n",
       "                                                   'Browser', 'Region',\n",
       "                                                   'TrafficType']),\n",
       "                                                 ('pipeline-2',\n",
       "                                                  Pipeline(steps=[('onehotencoder',\n",
       "                                                                   OneHotEncoder(drop='if_binary',\n",
       "                                                                                 handle_unknown='ignore'))]),\n",
       "                                                  ['Month', 'VisitorType',\n",
       "                                                   'Weekend'])])),\n",
       "                ('randomforestclassifier',\n",
       "                 RandomForestClassifier(class_weight='balanced', max_depth=10,\n",
       "                                        min_samples_split=5, random_state=0))])"
      ]
     },
     "execution_count": 33,
     "metadata": {},
     "output_type": "execute_result"
    }
   ],
   "source": [
    "pipeline_rf.fit(X_train, y_train)"
   ]
  },
  {
   "cell_type": "code",
   "execution_count": 34,
   "id": "af5f6397",
   "metadata": {},
   "outputs": [
    {
     "data": {
      "text/html": [
       "<style>#sk-container-id-4 {color: black;}#sk-container-id-4 pre{padding: 0;}#sk-container-id-4 div.sk-toggleable {background-color: white;}#sk-container-id-4 label.sk-toggleable__label {cursor: pointer;display: block;width: 100%;margin-bottom: 0;padding: 0.3em;box-sizing: border-box;text-align: center;}#sk-container-id-4 label.sk-toggleable__label-arrow:before {content: \"▸\";float: left;margin-right: 0.25em;color: #696969;}#sk-container-id-4 label.sk-toggleable__label-arrow:hover:before {color: black;}#sk-container-id-4 div.sk-estimator:hover label.sk-toggleable__label-arrow:before {color: black;}#sk-container-id-4 div.sk-toggleable__content {max-height: 0;max-width: 0;overflow: hidden;text-align: left;background-color: #f0f8ff;}#sk-container-id-4 div.sk-toggleable__content pre {margin: 0.2em;color: black;border-radius: 0.25em;background-color: #f0f8ff;}#sk-container-id-4 input.sk-toggleable__control:checked~div.sk-toggleable__content {max-height: 200px;max-width: 100%;overflow: auto;}#sk-container-id-4 input.sk-toggleable__control:checked~label.sk-toggleable__label-arrow:before {content: \"▾\";}#sk-container-id-4 div.sk-estimator input.sk-toggleable__control:checked~label.sk-toggleable__label {background-color: #d4ebff;}#sk-container-id-4 div.sk-label input.sk-toggleable__control:checked~label.sk-toggleable__label {background-color: #d4ebff;}#sk-container-id-4 input.sk-hidden--visually {border: 0;clip: rect(1px 1px 1px 1px);clip: rect(1px, 1px, 1px, 1px);height: 1px;margin: -1px;overflow: hidden;padding: 0;position: absolute;width: 1px;}#sk-container-id-4 div.sk-estimator {font-family: monospace;background-color: #f0f8ff;border: 1px dotted black;border-radius: 0.25em;box-sizing: border-box;margin-bottom: 0.5em;}#sk-container-id-4 div.sk-estimator:hover {background-color: #d4ebff;}#sk-container-id-4 div.sk-parallel-item::after {content: \"\";width: 100%;border-bottom: 1px solid gray;flex-grow: 1;}#sk-container-id-4 div.sk-label:hover label.sk-toggleable__label {background-color: #d4ebff;}#sk-container-id-4 div.sk-serial::before {content: \"\";position: absolute;border-left: 1px solid gray;box-sizing: border-box;top: 0;bottom: 0;left: 50%;z-index: 0;}#sk-container-id-4 div.sk-serial {display: flex;flex-direction: column;align-items: center;background-color: white;padding-right: 0.2em;padding-left: 0.2em;position: relative;}#sk-container-id-4 div.sk-item {position: relative;z-index: 1;}#sk-container-id-4 div.sk-parallel {display: flex;align-items: stretch;justify-content: center;background-color: white;position: relative;}#sk-container-id-4 div.sk-item::before, #sk-container-id-4 div.sk-parallel-item::before {content: \"\";position: absolute;border-left: 1px solid gray;box-sizing: border-box;top: 0;bottom: 0;left: 50%;z-index: -1;}#sk-container-id-4 div.sk-parallel-item {display: flex;flex-direction: column;z-index: 1;position: relative;background-color: white;}#sk-container-id-4 div.sk-parallel-item:first-child::after {align-self: flex-end;width: 50%;}#sk-container-id-4 div.sk-parallel-item:last-child::after {align-self: flex-start;width: 50%;}#sk-container-id-4 div.sk-parallel-item:only-child::after {width: 0;}#sk-container-id-4 div.sk-dashed-wrapped {border: 1px dashed gray;margin: 0 0.4em 0.5em 0.4em;box-sizing: border-box;padding-bottom: 0.4em;background-color: white;}#sk-container-id-4 div.sk-label label {font-family: monospace;font-weight: bold;display: inline-block;line-height: 1.2em;}#sk-container-id-4 div.sk-label-container {text-align: center;}#sk-container-id-4 div.sk-container {/* jupyter's `normalize.less` sets `[hidden] { display: none; }` but bootstrap.min.css set `[hidden] { display: none !important; }` so we also need the `!important` here to be able to override the default hidden behavior on the sphinx rendered scikit-learn.org. See: https://github.com/scikit-learn/scikit-learn/issues/21755 */display: inline-block !important;position: relative;}#sk-container-id-4 div.sk-text-repr-fallback {display: none;}</style><div id=\"sk-container-id-4\" class=\"sk-top-container\"><div class=\"sk-text-repr-fallback\"><pre>Pipeline(steps=[(&#x27;columntransformer&#x27;,\n",
       "                 ColumnTransformer(transformers=[(&#x27;pipeline-1&#x27;,\n",
       "                                                  Pipeline(steps=[(&#x27;standardscaler&#x27;,\n",
       "                                                                   StandardScaler())]),\n",
       "                                                  [&#x27;Administrative&#x27;,\n",
       "                                                   &#x27;Administrative_Duration&#x27;,\n",
       "                                                   &#x27;Informational&#x27;,\n",
       "                                                   &#x27;Informational_Duration&#x27;,\n",
       "                                                   &#x27;ProductRelated&#x27;,\n",
       "                                                   &#x27;ProductRelated_Duration&#x27;,\n",
       "                                                   &#x27;BounceRates&#x27;, &#x27;ExitRates&#x27;,\n",
       "                                                   &#x27;PageValues&#x27;, &#x27;SpecialDay&#x27;,\n",
       "                                                   &#x27;OperatingSystems&#x27;,\n",
       "                                                   &#x27;Browser&#x27;, &#x27;Region&#x27;,\n",
       "                                                   &#x27;TrafficType&#x27;]),\n",
       "                                                 (&#x27;pipeline-2&#x27;,\n",
       "                                                  Pipeline(steps=[(&#x27;onehotencoder&#x27;,\n",
       "                                                                   OneHotEncoder(drop=&#x27;if_binary&#x27;,\n",
       "                                                                                 handle_unknown=&#x27;ignore&#x27;))]),\n",
       "                                                  [&#x27;Month&#x27;, &#x27;VisitorType&#x27;,\n",
       "                                                   &#x27;Weekend&#x27;])])),\n",
       "                (&#x27;svc&#x27;,\n",
       "                 SVC(C=10, class_weight=&#x27;balanced&#x27;, gamma=&#x27;auto&#x27;,\n",
       "                     probability=True, random_state=0))])</pre><b>In a Jupyter environment, please rerun this cell to show the HTML representation or trust the notebook. <br />On GitHub, the HTML representation is unable to render, please try loading this page with nbviewer.org.</b></div><div class=\"sk-container\" hidden><div class=\"sk-item sk-dashed-wrapped\"><div class=\"sk-label-container\"><div class=\"sk-label sk-toggleable\"><input class=\"sk-toggleable__control sk-hidden--visually\" id=\"sk-estimator-id-24\" type=\"checkbox\" ><label for=\"sk-estimator-id-24\" class=\"sk-toggleable__label sk-toggleable__label-arrow\">Pipeline</label><div class=\"sk-toggleable__content\"><pre>Pipeline(steps=[(&#x27;columntransformer&#x27;,\n",
       "                 ColumnTransformer(transformers=[(&#x27;pipeline-1&#x27;,\n",
       "                                                  Pipeline(steps=[(&#x27;standardscaler&#x27;,\n",
       "                                                                   StandardScaler())]),\n",
       "                                                  [&#x27;Administrative&#x27;,\n",
       "                                                   &#x27;Administrative_Duration&#x27;,\n",
       "                                                   &#x27;Informational&#x27;,\n",
       "                                                   &#x27;Informational_Duration&#x27;,\n",
       "                                                   &#x27;ProductRelated&#x27;,\n",
       "                                                   &#x27;ProductRelated_Duration&#x27;,\n",
       "                                                   &#x27;BounceRates&#x27;, &#x27;ExitRates&#x27;,\n",
       "                                                   &#x27;PageValues&#x27;, &#x27;SpecialDay&#x27;,\n",
       "                                                   &#x27;OperatingSystems&#x27;,\n",
       "                                                   &#x27;Browser&#x27;, &#x27;Region&#x27;,\n",
       "                                                   &#x27;TrafficType&#x27;]),\n",
       "                                                 (&#x27;pipeline-2&#x27;,\n",
       "                                                  Pipeline(steps=[(&#x27;onehotencoder&#x27;,\n",
       "                                                                   OneHotEncoder(drop=&#x27;if_binary&#x27;,\n",
       "                                                                                 handle_unknown=&#x27;ignore&#x27;))]),\n",
       "                                                  [&#x27;Month&#x27;, &#x27;VisitorType&#x27;,\n",
       "                                                   &#x27;Weekend&#x27;])])),\n",
       "                (&#x27;svc&#x27;,\n",
       "                 SVC(C=10, class_weight=&#x27;balanced&#x27;, gamma=&#x27;auto&#x27;,\n",
       "                     probability=True, random_state=0))])</pre></div></div></div><div class=\"sk-serial\"><div class=\"sk-item sk-dashed-wrapped\"><div class=\"sk-label-container\"><div class=\"sk-label sk-toggleable\"><input class=\"sk-toggleable__control sk-hidden--visually\" id=\"sk-estimator-id-25\" type=\"checkbox\" ><label for=\"sk-estimator-id-25\" class=\"sk-toggleable__label sk-toggleable__label-arrow\">columntransformer: ColumnTransformer</label><div class=\"sk-toggleable__content\"><pre>ColumnTransformer(transformers=[(&#x27;pipeline-1&#x27;,\n",
       "                                 Pipeline(steps=[(&#x27;standardscaler&#x27;,\n",
       "                                                  StandardScaler())]),\n",
       "                                 [&#x27;Administrative&#x27;, &#x27;Administrative_Duration&#x27;,\n",
       "                                  &#x27;Informational&#x27;, &#x27;Informational_Duration&#x27;,\n",
       "                                  &#x27;ProductRelated&#x27;, &#x27;ProductRelated_Duration&#x27;,\n",
       "                                  &#x27;BounceRates&#x27;, &#x27;ExitRates&#x27;, &#x27;PageValues&#x27;,\n",
       "                                  &#x27;SpecialDay&#x27;, &#x27;OperatingSystems&#x27;, &#x27;Browser&#x27;,\n",
       "                                  &#x27;Region&#x27;, &#x27;TrafficType&#x27;]),\n",
       "                                (&#x27;pipeline-2&#x27;,\n",
       "                                 Pipeline(steps=[(&#x27;onehotencoder&#x27;,\n",
       "                                                  OneHotEncoder(drop=&#x27;if_binary&#x27;,\n",
       "                                                                handle_unknown=&#x27;ignore&#x27;))]),\n",
       "                                 [&#x27;Month&#x27;, &#x27;VisitorType&#x27;, &#x27;Weekend&#x27;])])</pre></div></div></div><div class=\"sk-parallel\"><div class=\"sk-parallel-item\"><div class=\"sk-item\"><div class=\"sk-label-container\"><div class=\"sk-label sk-toggleable\"><input class=\"sk-toggleable__control sk-hidden--visually\" id=\"sk-estimator-id-26\" type=\"checkbox\" ><label for=\"sk-estimator-id-26\" class=\"sk-toggleable__label sk-toggleable__label-arrow\">pipeline-1</label><div class=\"sk-toggleable__content\"><pre>[&#x27;Administrative&#x27;, &#x27;Administrative_Duration&#x27;, &#x27;Informational&#x27;, &#x27;Informational_Duration&#x27;, &#x27;ProductRelated&#x27;, &#x27;ProductRelated_Duration&#x27;, &#x27;BounceRates&#x27;, &#x27;ExitRates&#x27;, &#x27;PageValues&#x27;, &#x27;SpecialDay&#x27;, &#x27;OperatingSystems&#x27;, &#x27;Browser&#x27;, &#x27;Region&#x27;, &#x27;TrafficType&#x27;]</pre></div></div></div><div class=\"sk-serial\"><div class=\"sk-item\"><div class=\"sk-serial\"><div class=\"sk-item\"><div class=\"sk-estimator sk-toggleable\"><input class=\"sk-toggleable__control sk-hidden--visually\" id=\"sk-estimator-id-27\" type=\"checkbox\" ><label for=\"sk-estimator-id-27\" class=\"sk-toggleable__label sk-toggleable__label-arrow\">StandardScaler</label><div class=\"sk-toggleable__content\"><pre>StandardScaler()</pre></div></div></div></div></div></div></div></div><div class=\"sk-parallel-item\"><div class=\"sk-item\"><div class=\"sk-label-container\"><div class=\"sk-label sk-toggleable\"><input class=\"sk-toggleable__control sk-hidden--visually\" id=\"sk-estimator-id-28\" type=\"checkbox\" ><label for=\"sk-estimator-id-28\" class=\"sk-toggleable__label sk-toggleable__label-arrow\">pipeline-2</label><div class=\"sk-toggleable__content\"><pre>[&#x27;Month&#x27;, &#x27;VisitorType&#x27;, &#x27;Weekend&#x27;]</pre></div></div></div><div class=\"sk-serial\"><div class=\"sk-item\"><div class=\"sk-serial\"><div class=\"sk-item\"><div class=\"sk-estimator sk-toggleable\"><input class=\"sk-toggleable__control sk-hidden--visually\" id=\"sk-estimator-id-29\" type=\"checkbox\" ><label for=\"sk-estimator-id-29\" class=\"sk-toggleable__label sk-toggleable__label-arrow\">OneHotEncoder</label><div class=\"sk-toggleable__content\"><pre>OneHotEncoder(drop=&#x27;if_binary&#x27;, handle_unknown=&#x27;ignore&#x27;)</pre></div></div></div></div></div></div></div></div></div></div><div class=\"sk-item\"><div class=\"sk-estimator sk-toggleable\"><input class=\"sk-toggleable__control sk-hidden--visually\" id=\"sk-estimator-id-30\" type=\"checkbox\" ><label for=\"sk-estimator-id-30\" class=\"sk-toggleable__label sk-toggleable__label-arrow\">SVC</label><div class=\"sk-toggleable__content\"><pre>SVC(C=10, class_weight=&#x27;balanced&#x27;, gamma=&#x27;auto&#x27;, probability=True,\n",
       "    random_state=0)</pre></div></div></div></div></div></div></div>"
      ],
      "text/plain": [
       "Pipeline(steps=[('columntransformer',\n",
       "                 ColumnTransformer(transformers=[('pipeline-1',\n",
       "                                                  Pipeline(steps=[('standardscaler',\n",
       "                                                                   StandardScaler())]),\n",
       "                                                  ['Administrative',\n",
       "                                                   'Administrative_Duration',\n",
       "                                                   'Informational',\n",
       "                                                   'Informational_Duration',\n",
       "                                                   'ProductRelated',\n",
       "                                                   'ProductRelated_Duration',\n",
       "                                                   'BounceRates', 'ExitRates',\n",
       "                                                   'PageValues', 'SpecialDay',\n",
       "                                                   'OperatingSystems',\n",
       "                                                   'Browser', 'Region',\n",
       "                                                   'TrafficType']),\n",
       "                                                 ('pipeline-2',\n",
       "                                                  Pipeline(steps=[('onehotencoder',\n",
       "                                                                   OneHotEncoder(drop='if_binary',\n",
       "                                                                                 handle_unknown='ignore'))]),\n",
       "                                                  ['Month', 'VisitorType',\n",
       "                                                   'Weekend'])])),\n",
       "                ('svc',\n",
       "                 SVC(C=10, class_weight='balanced', gamma='auto',\n",
       "                     probability=True, random_state=0))])"
      ]
     },
     "execution_count": 34,
     "metadata": {},
     "output_type": "execute_result"
    }
   ],
   "source": [
    "pipeline_svc.fit(X_train, y_train)"
   ]
  },
  {
   "cell_type": "markdown",
   "id": "0cc62735",
   "metadata": {},
   "source": [
    "## Final predictions on test data"
   ]
  },
  {
   "cell_type": "code",
   "execution_count": 35,
   "id": "fdb91f3c",
   "metadata": {},
   "outputs": [],
   "source": [
    "# Predictions\n",
    "y_pred_rf = pipeline_rf.predict(X_test)\n",
    "y_pred_svc = pipeline_svc.predict(X_test)"
   ]
  },
  {
   "cell_type": "markdown",
   "id": "099cd1e6",
   "metadata": {},
   "source": [
    "#### Moving to the analysis part"
   ]
  },
  {
   "cell_type": "code",
   "execution_count": 36,
   "id": "0d3d1a7c",
   "metadata": {},
   "outputs": [
    {
     "data": {
      "image/png": "[encoded data removed]",
      "text/plain": [
       "<Figure size 800x600 with 2 Axes>"
      ]
     },
     "metadata": {},
     "output_type": "display_data"
    }
   ],
   "source": [
    "# Calculate the confusion matrix for Random Forest\n",
    "cm_rf = confusion_matrix(y_test, y_pred_rf)\n",
    "\n",
    "# Plot the confusion matrix\n",
    "plt.figure(figsize=(8, 6))\n",
    "sns.heatmap(cm_rf, annot=True, fmt='d', cmap='Blues', xticklabels=['No Revenue', 'Revenue'], yticklabels=['No Revenue', 'Revenue'])\n",
    "plt.title('Confusion Matrix for Random Forest')\n",
    "plt.xlabel('Predicted Label')\n",
    "plt.ylabel('True Label')\n",
    "plt.show()"
   ]
  },
  {
   "cell_type": "code",
   "execution_count": 37,
   "id": "90dd12ee",
   "metadata": {},
   "outputs": [
    {
     "name": "stdout",
     "output_type": "stream",
     "text": [
      "Accuracy: 0.8787510137875101\n",
      "Precision: 0.6136783733826248\n",
      "Recall: 0.7867298578199052\n",
      "F1 Score: 0.6895119418483904\n",
      "Confusion Matrix: \n",
      "[[1835  209]\n",
      " [  90  332]]\n"
     ]
    }
   ],
   "source": [
    "# Calculate the Accuracy\n",
    "accuracy = accuracy_score(y_test, y_pred_rf)\n",
    "\n",
    "# Calculate Precision\n",
    "precision = precision_score(y_test, y_pred_rf, pos_label=True)\n",
    "\n",
    "# Calculate Recall\n",
    "recall = recall_score(y_test, y_pred_rf, pos_label=True)\n",
    "\n",
    "# Calculate F1 Score\n",
    "f1 = f1_score(y_test, y_pred_rf, pos_label=True)\n",
    "\n",
    "# Calculate Confusion Matrix\n",
    "cm = confusion_matrix(y_test, y_pred_rf)\n",
    "\n",
    "# Displaying the metrics\n",
    "print(f\"Accuracy: {accuracy}\")\n",
    "print(f\"Precision: {precision}\")\n",
    "print(f\"Recall: {recall}\")\n",
    "print(f\"F1 Score: {f1}\")\n",
    "print(f\"Confusion Matrix: \\n{cm}\")"
   ]
  },
  {
   "cell_type": "code",
   "execution_count": 38,
   "id": "e19c0305",
   "metadata": {},
   "outputs": [
    {
     "data": {
      "image/png": "[encoded data removed]",
      "text/plain": [
       "<Figure size 800x600 with 2 Axes>"
      ]
     },
     "metadata": {},
     "output_type": "display_data"
    }
   ],
   "source": [
    "# Calculate the confusion matrix for SVC\n",
    "cm_rf = confusion_matrix(y_test, y_pred_svc)\n",
    "\n",
    "# Plot the confusion matrix\n",
    "plt.figure(figsize=(8, 6))\n",
    "sns.heatmap(cm_rf, annot=True, fmt='d', cmap='Blues', xticklabels=['No Revenue', 'Revenue'], yticklabels=['No Revenue', 'Revenue'])\n",
    "plt.title('Confusion Matrix for SVC')\n",
    "plt.xlabel('Predicted Label')\n",
    "plt.ylabel('True Label')\n",
    "plt.show()"
   ]
  },
  {
   "cell_type": "code",
   "execution_count": 39,
   "id": "f285ddc0",
   "metadata": {},
   "outputs": [
    {
     "name": "stdout",
     "output_type": "stream",
     "text": [
      "Accuracy: 0.8572587185725872\n",
      "Precision: 0.5657894736842105\n",
      "Recall: 0.7132701421800948\n",
      "F1 Score: 0.631027253668763\n",
      "Confusion Matrix: \n",
      "[[1813  231]\n",
      " [ 121  301]]\n"
     ]
    }
   ],
   "source": [
    "# Calculate the Accuracy\n",
    "accuracy = accuracy_score(y_test, y_pred_svc)\n",
    "\n",
    "# Calculate Precision\n",
    "precision = precision_score(y_test, y_pred_svc, pos_label=True)\n",
    "\n",
    "# Calculate Recall\n",
    "recall = recall_score(y_test, y_pred_svc, pos_label=True)\n",
    "\n",
    "# Calculate F1 Score\n",
    "f1 = f1_score(y_test, y_pred_svc, pos_label=True)\n",
    "\n",
    "# Calculate Confusion Matrix\n",
    "cm = confusion_matrix(y_test, y_pred_svc)\n",
    "\n",
    "# Displaying the metrics\n",
    "print(f\"Accuracy: {accuracy}\")\n",
    "print(f\"Precision: {precision}\")\n",
    "print(f\"Recall: {recall}\")\n",
    "print(f\"F1 Score: {f1}\")\n",
    "print(f\"Confusion Matrix: \\n{cm}\")"
   ]
  },
  {
   "cell_type": "markdown",
   "id": "e86176f8",
   "metadata": {},
   "source": [
    "#### ROC Curve for best model"
   ]
  },
  {
   "cell_type": "code",
   "execution_count": 40,
   "id": "841df2e0",
   "metadata": {},
   "outputs": [
    {
     "data": {
      "image/png": "[encoded data removed]",
      "text/plain": [
       "<Figure size 1000x700 with 1 Axes>"
      ]
     },
     "metadata": {},
     "output_type": "display_data"
    }
   ],
   "source": [
    "# Predicting the probabilities for Random Forest\n",
    "y_prob_rf = pipeline_rf.predict_proba(X_test)[:, 1]\n",
    "\n",
    "# ROC curve for Random Forest\n",
    "fpr_rf, tpr_rf, _ = roc_curve(y_test, y_prob_rf)\n",
    "roc_auc_rf = auc(fpr_rf, tpr_rf)\n",
    "\n",
    "# Plotting the ROC curve for Random Forest\n",
    "plt.figure(figsize=(10, 7))\n",
    "plt.plot(fpr_rf, tpr_rf, color='blue', lw=2, label=f'ROC curve (area = {roc_auc_rf:.2f})')\n",
    "plt.plot([0, 1], [0, 1], color='gray', lw=2, linestyle='--')\n",
    "plt.xlim([0.0, 1.0])\n",
    "plt.ylim([0.0, 1.05])\n",
    "plt.xlabel('False Positive Rate')\n",
    "plt.ylabel('True Positive Rate')\n",
    "plt.title('Receiver Operating Characteristic for Random Forest')\n",
    "plt.legend(loc=\"lower right\")\n",
    "plt.show()"
   ]
  },
  {
   "cell_type": "markdown",
   "id": "d6eb54ef",
   "metadata": {},
   "source": [
    "Above is the Receiver Operating Characteristic (ROC) curve for the Random Forest model. The ROC curve is a graphical representation of the trade off between the true positive rate (TPR) and false positive rate (FPR) at various thresholds.\n",
    "\n",
    "The blue line represents the ROC curve of the Random Forest model.\n",
    "The area under the ROC curve (AUC) is 0.92, which is excellent. An AUC score of 1 represents a perfect classifier, while an AUC score of 0.5 represents a worthless classifier.\n",
    "The gray dashed line represents the ROC curve of a random classifier (AUC = 0.5)."
   ]
  },
  {
   "cell_type": "markdown",
   "id": "fdbde9f9",
   "metadata": {},
   "source": [
    "#### Final evaluation"
   ]
  },
  {
   "cell_type": "code",
   "execution_count": null,
   "id": "9f7ca1b7",
   "metadata": {},
   "outputs": [],
   "source": []
  }
 ],
 "metadata": {
  "kernelspec": {
   "display_name": "Python 3 (ipykernel)",
   "language": "python",
   "name": "python3"
  },
  "language_info": {
   "codemirror_mode": {
    "name": "ipython",
    "version": 3
   },
   "file_extension": ".py",
   "mimetype": "text/x-python",
   "name": "python",
   "nbconvert_exporter": "python",
   "pygments_lexer": "ipython3",
   "version": "3.10.9"
  }
 },
 "nbformat": 4,
 "nbformat_minor": 5
}
